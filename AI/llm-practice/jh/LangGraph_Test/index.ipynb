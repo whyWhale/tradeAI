{
 "cells": [
  {
   "cell_type": "code",
   "execution_count": 30,
   "metadata": {},
   "outputs": [],
   "source": [
    "# # 1. 가상환경 생성 및 활성화\n",
    "# python -m venv LangGraph_Test\n",
    "# # Windows\n",
    "# LangGraph_Test\\Scripts\\activate\n",
    "\n",
    "# # 2. 필요한 패키지 설치\n",
    "# pip install jupyter notebook\n",
    "# pip install ipykernel\n",
    "\n",
    "# # 3. 가상환경을 Jupyter kernel로 등록\n",
    "# python -m ipykernel install --user --name=LangGraph_Test --display-name=\"LangGraph_Test\""
   ]
  },
  {
   "cell_type": "code",
   "execution_count": 31,
   "metadata": {},
   "outputs": [],
   "source": [
    "import requests\n",
    "import json\n",
    "from langchain_openai import ChatOpenAI\n",
    "from langchain_core.prompts import PromptTemplate\n",
    "from langchain_core.output_parsers import JsonOutputParser\n",
    "from typing import Literal, TypedDict"
   ]
  },
  {
   "cell_type": "code",
   "execution_count": 32,
   "metadata": {},
   "outputs": [
    {
     "data": {
      "text/plain": [
       "True"
      ]
     },
     "execution_count": 32,
     "metadata": {},
     "output_type": "execute_result"
    }
   ],
   "source": [
    "# api key\n",
    "from dotenv import load_dotenv\n",
    "\n",
    "load_dotenv()"
   ]
  },
  {
   "cell_type": "code",
   "execution_count": 33,
   "metadata": {},
   "outputs": [
    {
     "name": "stdout",
     "output_type": "stream",
     "text": [
      "LangSmith 추적을 시작합니다.\n",
      "[프로젝트명]\n",
      "CH17-LANGGRAPH\n"
     ]
    }
   ],
   "source": [
    "# LangSmith 추적을 설정합니다. https://smith.langchain.com\n",
    "# !pip install -qU langchain-teddynote\n",
    "from langchain_teddynote import logging\n",
    "\n",
    "# 프로젝트 이름을 입력합니다.\n",
    "logging.langsmith(\"CH17-LANGGRAPH\")"
   ]
  },
  {
   "cell_type": "code",
   "execution_count": 34,
   "metadata": {},
   "outputs": [],
   "source": [
    "from typing import Annotated, TypedDict, Optional\n",
    "from langgraph.graph import StateGraph, START, END\n",
    "from langgraph.graph.message import add_messages\n",
    "\n",
    "\n",
    "class State(TypedDict):\n",
    "    # 메시지 정의(list type 이며 add_messages 함수를 사용하여 메시지를 추가)\n",
    "    messages: Annotated[list, add_messages]\n",
    "    fng: Optional[dict] = None"
   ]
  },
  {
   "cell_type": "code",
   "execution_count": 35,
   "metadata": {},
   "outputs": [],
   "source": [
    "from langchain_openai import ChatOpenAI\n",
    "\n",
    "# LLM 정의\n",
    "llm = ChatOpenAI(model=\"gpt-4o-mini\", temperature=0)"
   ]
  },
  {
   "cell_type": "code",
   "execution_count": 36,
   "metadata": {},
   "outputs": [],
   "source": [
    "# 챗봇 함수 정의\n",
    "def chatbot(state: State):\n",
    "    # 메시지 호출 및 반환\n",
    "    answer = llm.invoke(state[\"messages\"])\n",
    "    return {\"messages\": [answer]} # 자동으로 add_messages 적용"
   ]
  },
  {
   "cell_type": "code",
   "execution_count": 37,
   "metadata": {},
   "outputs": [],
   "source": [
    "# 공포 탐욕 지수 함수 정의\n",
    "url = \"https://api.alternative.me/fng/?date_format=kr&limit=\"\n",
    "\n",
    "def get_fng():\n",
    "    # 30일로 설정\n",
    "    _url = url + \"30\"\n",
    "    res = requests.request(\"GET\", _url)\n",
    "\n",
    "    parsed = json.loads(res.text)\n",
    "    data = parsed[\"data\"]\n",
    "\n",
    "    # 데이터의 value 값만 리스트로 추출\n",
    "    values = [int(item['value']) for item in data]\n",
    "\n",
    "    return values\n",
    "\n",
    "fng_template = \"\"\"당신은 투자 분석 전문가 입니다. \n",
    "    현재 공포 탐욕 지수의 최근 30일 지수의 정보는 다음과 같습니다: {values}\n",
    "\n",
    "    분석 결과를 다음 JSON 형식으로 제공해주세요:\n",
    "    {{\n",
    "        \"decision\": \"BUY 또는 SELL 또는 HOLD 중 하나로만 작성\"\n",
    "        \"summary\": \"시장 분석 및 예측 내용을 상세히 서술. 투자 결정을 제안하고 해당 이유를 서술\",\n",
    "    }}\n",
    "\n",
    "    주의사항:\n",
    "    - decision은 반드시 BUY 또는 SELL 또는 HOLD 중 하나여야 합니다\n",
    "    - summary는 현재 시장 상황과 향후 전망을 포함해야 합니다. 투자 결정을 제안하고 해당 이유를 서술해야 합니다\n",
    "    \"\"\"\n",
    "\n",
    "fng_prompt_template = PromptTemplate.from_template(fng_template)\n",
    "\n",
    "class FngAnalysis(TypedDict):\n",
    "    summary: str\n",
    "    decision: Literal[\"BUY\", \"SELL\", \"HOLD\"]\n",
    "\n",
    "json_output_parser = JsonOutputParser(pydantic_object=FngAnalysis)\n",
    "\n",
    "chain = fng_prompt_template | llm | json_output_parser\n",
    "\n",
    "def fng_agent(state: State) -> State:\n",
    "    fng_info = get_fng()\n",
    "    result = chain.invoke({\"values\": fng_info})\n",
    "\n",
    "    return {**state, \"fng\": {\"decision\": result[\"decision\"], \"summary\": result[\"summary\"]}}"
   ]
  },
  {
   "cell_type": "code",
   "execution_count": 38,
   "metadata": {},
   "outputs": [
    {
     "data": {
      "text/plain": [
       "<langgraph.graph.state.StateGraph at 0x23e9bf7ab90>"
      ]
     },
     "execution_count": 38,
     "metadata": {},
     "output_type": "execute_result"
    }
   ],
   "source": [
    "# 그래프 생성\n",
    "graph_builder = StateGraph(State)\n",
    "\n",
    "# 노드 이름, 함수 혹은 callable 객체를 인자로 받아 노드를 추가\n",
    "graph_builder.add_node(\"chatbot\", chatbot)\n",
    "graph_builder.add_node(\"fng_agent\", fng_agent)"
   ]
  },
  {
   "cell_type": "code",
   "execution_count": 39,
   "metadata": {},
   "outputs": [
    {
     "data": {
      "text/plain": [
       "<langgraph.graph.state.StateGraph at 0x23e9bf7ab90>"
      ]
     },
     "execution_count": 39,
     "metadata": {},
     "output_type": "execute_result"
    }
   ],
   "source": [
    "# 그래프에 엣지 추가\n",
    "graph_builder.add_edge(START, \"chatbot\")\n",
    "graph_builder.add_edge(\"chatbot\", \"fng_agent\")\n",
    "graph_builder.add_edge(\"fng_agent\", END)"
   ]
  },
  {
   "cell_type": "code",
   "execution_count": 40,
   "metadata": {},
   "outputs": [],
   "source": [
    "# 그래프 컴파일\n",
    "graph = graph_builder.compile()"
   ]
  },
  {
   "cell_type": "code",
   "execution_count": 41,
   "metadata": {},
   "outputs": [
    {
     "data": {
      "image/jpeg": "[encoded data removed]",
      "text/plain": [
       "<IPython.core.display.Image object>"
      ]
     },
     "metadata": {},
     "output_type": "display_data"
    }
   ],
   "source": [
    "from langchain_teddynote.graphs import visualize_graph\n",
    "\n",
    "# 그래프 시각화\n",
    "visualize_graph(graph)"
   ]
  },
  {
   "cell_type": "code",
   "execution_count": 42,
   "metadata": {},
   "outputs": [
    {
     "data": {
      "text/plain": [
       "{'messages': [HumanMessage(content='면접을 잘봤는지 면접관의 반응을 통해 알 수 있을까?', additional_kwargs={}, response_metadata={}, id='0003460f-d866-44c7-97fe-ea932d63cd41'),\n",
       "  AIMessage(content='면접관의 반응은 면접 결과를 예측하는 데 도움이 될 수 있지만, 확실한 지표는 아닙니다. 면접관의 반응을 통해 알 수 있는 몇 가지 요소는 다음과 같습니다:\\n\\n1. **질문과 대화의 흐름**: 면접관이 질문을 많이 하고, 대화가 자연스럽게 이어진다면 긍정적인 신호일 수 있습니다. 반면, 질문이 적거나 대화가 어색하게 진행된다면 부정적인 신호일 수 있습니다.\\n\\n2. **비언어적 신호**: 면접관의 표정, 눈 맞춤, 몸짓 등 비언어적 신호도 중요합니다. 긍정적인 표정이나 고개 끄덕임은 좋은 반응으로 해석될 수 있습니다.\\n\\n3. **피드백**: 면접관이 당신의 답변에 대해 긍정적인 피드백을 주거나, 추가 질문을 통해 더 깊이 있는 대화를 나누고자 한다면 좋은 신호일 수 있습니다.\\n\\n4. **면접 종료 시의 말**: 면접이 끝날 때 면접관이 \"좋은 하루 되세요\"와 같은 긍정적인 인사를 하거나, 다음 단계에 대한 언급을 한다면 긍정적인 신호일 수 있습니다.\\n\\n하지만 이러한 반응이 항상 결과와 일치하는 것은 아니므로, 최종 결과는 기다려봐야 합니다. 면접 후에는 자신이 잘한 점과 개선할 점을 돌아보는 것이 중요합니다.', additional_kwargs={'refusal': None}, response_metadata={'token_usage': {'completion_tokens': 330, 'prompt_tokens': 27, 'total_tokens': 357, 'completion_tokens_details': {'audio_tokens': None, 'reasoning_tokens': 0}, 'prompt_tokens_details': {'audio_tokens': None, 'cached_tokens': 0}}, 'model_name': 'gpt-4o-mini-2024-07-18', 'system_fingerprint': 'fp_f59a81427f', 'finish_reason': 'stop', 'logprobs': None}, id='run-a18948e1-2b10-441a-abf5-6bf7b0937487-0', usage_metadata={'input_tokens': 27, 'output_tokens': 330, 'total_tokens': 357, 'input_token_details': {'cache_read': 0}, 'output_token_details': {'reasoning': 0}})],\n",
       " 'fng': {'decision': 'HOLD',\n",
       "  'summary': \"현재 공포 탐욕 지수는 최근 30일 동안 72에서 32까지의 범위를 보이며, 현재 지수는 64로 나타나고 있습니다. 이는 시장이 여전히 '탐욕' 상태에 있다는 것을 의미합니다. 그러나 최근 지수가 32로 떨어진 시점이 있었고, 그 이후로 반등이 있었지만 여전히 불안정한 모습을 보이고 있습니다. 이러한 변동성은 투자자들에게 신중함을 요구합니다. 현재의 높은 탐욕 지수는 단기적인 조정 가능성을 시사하며, 따라서 추가적인 상승세가 지속될지에 대한 확신이 부족합니다. 따라서, 현재 포지션을 유지하며 시장의 추가적인 신호를 관찰하는 것이 바람직합니다.\"}}"
      ]
     },
     "execution_count": 42,
     "metadata": {},
     "output_type": "execute_result"
    }
   ],
   "source": [
    "question = \"면접을 잘봤는지 면접관의 반응을 통해 알 수 있을까?\"\n",
    "\n",
    "# State 제공\n",
    "graph.invoke({\"messages\": [(\"user\", question)]})"
   ]
  },
  {
   "cell_type": "code",
   "execution_count": null,
   "metadata": {},
   "outputs": [],
   "source": []
  },
  {
   "cell_type": "code",
   "execution_count": null,
   "metadata": {},
   "outputs": [],
   "source": []
  }
 ],
 "metadata": {
  "kernelspec": {
   "display_name": "Python 3",
   "language": "python",
   "name": "python3"
  },
  "language_info": {
   "codemirror_mode": {
    "name": "ipython",
    "version": 3
   },
   "file_extension": ".py",
   "mimetype": "text/x-python",
   "name": "python",
   "nbconvert_exporter": "python",
   "pygments_lexer": "ipython3",
   "version": "3.11.9"
  }
 },
 "nbformat": 4,
 "nbformat_minor": 2
}
