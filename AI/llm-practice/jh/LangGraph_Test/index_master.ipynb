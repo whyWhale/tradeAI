{
 "cells": [
  {
   "cell_type": "code",
   "execution_count": 114,
   "metadata": {},
   "outputs": [],
   "source": [
    "# # 1. 가상환경 생성 및 활성화\n",
    "# python -m venv LangGraph_Test\n",
    "# # Windows\n",
    "# LangGraph_Test\\Scripts\\activate\n",
    "\n",
    "# # 2. 필요한 패키지 설치\n",
    "# pip install jupyter notebook\n",
    "# pip install ipykernel\n",
    "\n",
    "# # 3. 가상환경을 Jupyter kernel로 등록\n",
    "# python -m ipykernel install --user --name=LangGraph_Test --display-name=\"LangGraph_Test\""
   ]
  },
  {
   "cell_type": "code",
   "execution_count": 115,
   "metadata": {},
   "outputs": [],
   "source": [
    "from typing import Annotated, TypedDict, Optional, Literal\n",
    "from langgraph.graph import StateGraph, START, END\n",
    "from langgraph.graph.message import add_messages\n",
    "from langchain_community.utilities import SerpAPIWrapper\n",
    "from langchain_core.prompts import PromptTemplate\n",
    "from langchain_core.output_parsers import JsonOutputParser\n",
    "from langchain_openai import ChatOpenAI\n",
    "from langchain.agents import create_tool_calling_agent\n",
    "from langchain_core.pydantic_v1 import BaseModel, Field\n",
    "# from langchain.agents import load_tools\n",
    "import os\n",
    "import json\n",
    "import requests"
   ]
  },
  {
   "cell_type": "code",
   "execution_count": 116,
   "metadata": {},
   "outputs": [
    {
     "data": {
      "text/plain": [
       "True"
      ]
     },
     "execution_count": 116,
     "metadata": {},
     "output_type": "execute_result"
    }
   ],
   "source": [
    "# api key\n",
    "from dotenv import load_dotenv\n",
    "\n",
    "load_dotenv()"
   ]
  },
  {
   "cell_type": "code",
   "execution_count": 117,
   "metadata": {},
   "outputs": [
    {
     "name": "stdout",
     "output_type": "stream",
     "text": [
      "LangSmith 추적을 시작합니다.\n",
      "[프로젝트명]\n",
      "CH17-LANGGRAPH\n"
     ]
    }
   ],
   "source": [
    "# LangSmith 추적을 설정합니다. https://smith.langchain.com\n",
    "# !pip install -qU langchain-teddynote\n",
    "from langchain_teddynote import logging\n",
    "\n",
    "# 프로젝트 이름을 입력합니다.\n",
    "logging.langsmith(\"CH17-LANGGRAPH\")"
   ]
  },
  {
   "cell_type": "code",
   "execution_count": 118,
   "metadata": {},
   "outputs": [],
   "source": [
    "# State 정의\n",
    "class State(BaseModel):\n",
    "    messages: Annotated[list, add_messages]\n",
    "    fng: Optional[dict] = None\n",
    "    news_search: Optional[dict] = None\n",
    "    master: Optional[dict] = None"
   ]
  },
  {
   "cell_type": "code",
   "execution_count": 119,
   "metadata": {},
   "outputs": [],
   "source": [
    "llm = ChatOpenAI(model=\"gpt-4\", temperature=0)"
   ]
  },
  {
   "cell_type": "code",
   "execution_count": 120,
   "metadata": {},
   "outputs": [],
   "source": [
    "# 공포 탐욕 지수 함수\n",
    "url = \"https://api.alternative.me/fng/?date_format=kr&limit=\"\n",
    "\n",
    "def get_fng():\n",
    "    _url = url + \"30\"\n",
    "    res = requests.request(\"GET\", _url)\n",
    "    parsed = json.loads(res.text)\n",
    "    data = parsed[\"data\"]\n",
    "    info = [int(item['value']) for item in data]\n",
    "    return info\n",
    "\n",
    "# fng_agent 정의\n",
    "fng_template = \"\"\"당신은 투자 분석 전문가 입니다.\n",
    "    Level 1: 0-25 points — Extreme Fear: Indicates a high level of pessimism; investors are highly risk-averse.\n",
    "    Level 2: 26-50 points — Fear: Suggests cautious sentiment; investors are generally reluctant to take on risk.\n",
    "    Level 3: Around 50 points — Neutral: Shows a balanced market sentiment with neither fear nor greed prevailing.\n",
    "    Level 4: 51-75 points — Greed: Investors are becoming more optimistic, showing a greater willingness to take on risk.\n",
    "    Level 5: 76-100 points — Extreme Greed: Indicates very high levels of optimism; investors are extremely risk-seeking.\n",
    "\n",
    "    현재 공포 탐욕 지수의 최근 30일 지수의 정보는 다음과 같습니다:\n",
    "    {info}\n",
    "\n",
    "    분석 결과를 다음 JSON 형식으로 제공해주세요:\n",
    "    {{\n",
    "        \"decision\": \"BUY 또는 SELL 또는 HOLD 중 하나로만 작성\",\n",
    "        \"summary\": \"시장 분석 및 예측 내용을 상세히 서술. 투자 결정을 제안하고 해당 이유를 서술\",\n",
    "    }}\n",
    "\n",
    "    주의사항:\n",
    "    - decision은 반드시 BUY 또는 SELL 또는 HOLD 중 하나여야 합니다\n",
    "    - summary는 현재 시장 상황과 향후 전망을 포함해야 합니다. 투자 결정을 제안하고 해당 이유를 서술해야 합니다\n",
    "    \"\"\"\n",
    "fng_prompt_template = PromptTemplate.from_template(fng_template)\n",
    "\n",
    "class FngAnalysis(TypedDict):\n",
    "    summary: str\n",
    "    decision: Literal[\"BUY\", \"SELL\", \"HOLD\"]\n",
    "\n",
    "json_output_parser = JsonOutputParser(pydantic_object=FngAnalysis)\n",
    "fng_chain = fng_prompt_template | llm | json_output_parser\n",
    "\n",
    "def fng_agent(state: State) -> State:\n",
    "    # 공포 탐욕 지수 메시지\n",
    "    fng_info = get_fng()\n",
    "    result = fng_chain.invoke({\"info\": fng_info})\n",
    "    \n",
    "    # 메시지를 추가\n",
    "    new_message = f\"FNG Analysis Decision: {result['decision']}, Summary: {result['summary']}\"\n",
    "    updated_messages = state.messages + [new_message]\n",
    "    \n",
    "    # 상태 업데이트\n",
    "    return state.copy(update={\"messages\": updated_messages, \"fng\": {\"decision\": result[\"decision\"], \"summary\": result[\"summary\"]}})"
   ]
  },
  {
   "cell_type": "code",
   "execution_count": 121,
   "metadata": {},
   "outputs": [],
   "source": [
    "# 뉴스 검색 에이전트\n",
    "search = SerpAPIWrapper()\n",
    "\n",
    "news_search_template = \"\"\"당신은 비트코인 시장의 투자 분석 전문가입니다. \n",
    "    최신 뉴스에서 비트코인 관련 시장 동향을 조사하고 이를 분석하여 결정하세요.\n",
    "    \n",
    "    다음의 뉴스 기사들을 참조하여 BUY, SELL, HOLD 중 하나의 결정을 내리세요:\n",
    "    {articles}\n",
    "\n",
    "    결과는 반드시 JSON 형식으로 출력하세요:\n",
    "    {{\n",
    "        \"decision\": \"BUY 또는 SELL 또는 HOLD 중 하나로만 작성\",\n",
    "        \"summary\": \"뉴스 동향에 기반한 시장 분석과 투자 결정을 서술\",\n",
    "        \"sources\": [\"뉴스 기사 링크를 포함해 주세요\"]\n",
    "    }}\n",
    "    \"\"\"\n",
    "news_search_prompt_template = PromptTemplate.from_template(news_search_template)\n",
    "\n",
    "class NewsSearchAnalysis(BaseModel):\n",
    "    summary: str\n",
    "    decision: Literal[\"BUY\", \"SELL\", \"HOLD\"]\n",
    "    sources: list[str]\n",
    "\n",
    "news_output_parser = JsonOutputParser(pydantic_object=NewsSearchAnalysis)\n",
    "news_search_chain = news_search_prompt_template | llm | news_output_parser\n",
    "\n",
    "def news_search_agent(state: State) -> State:\n",
    "    # 뉴스 메시지\n",
    "    search_results = search.run(\"bitcoin latest news\")\n",
    "    articles = \"\\n\".join([f\"- {item['title']} ({item['link']})\" for item in search_results[:5]])\n",
    "\n",
    "    # 모델에 기사 제목과 링크 포함해 프롬프트 생성 및 응답 요청\n",
    "    result = news_search_chain.invoke({\"articles\": articles})\n",
    "\n",
    "    # 새로운 메시지 추가\n",
    "    new_message = f\"News Search Decision: {result['decision']}, Summary: {result['summary']}, Sources: {result['sources']}\"\n",
    "    updated_messages = state.messages + [new_message]\n",
    "    \n",
    "    # 상태 업데이트\n",
    "    return state.copy(update={\"messages\": updated_messages, \"news_search\": {\"decision\": result[\"decision\"], \"summary\": result[\"summary\"], \"sources\": result[\"sources\"]}})"
   ]
  },
  {
   "cell_type": "code",
   "execution_count": 122,
   "metadata": {},
   "outputs": [],
   "source": [
    "# 마스터 에이전트\n",
    "master_template = \"\"\"당신은 비트코인 시장의 투자 분석 전문가입니다.\n",
    "    현재 당신 회사에 속한 투자 전문가들은 비트코인 투자 결정을 다음과 같이 했습니다:\n",
    "    {master_decision}\n",
    "    당신은 해당 결정을 따르기로 했습니다.\n",
    "    \n",
    "    해당 결정을 뒷받침하는 투자 전문가들의 의견을 종합해주세요:\n",
    "    {contents}\n",
    "    \n",
    "    만약, 투자전문가들의 의견이 \"DRAW\"라면 당신이 전반적인 내용을 종합하여 \"BUY\", \"SELL\", \"HOLD\" 중 하나를 골라주세요.\n",
    "    해당 결정을 가지고 투자 자본을 얼만큼의 비중으로 진행할지 퍼센트도 결정해주세요.\n",
    "\n",
    "    결과는 반드시 JSON 형식으로 출력하세요:\n",
    "    {{\n",
    "        \"decision\": \"BUY 또는 SELL 또는 HOLD 중 하나로만 작성\",\n",
    "        \"percentage\": \"현재 가지고 있는 자본 중 몇 퍼센트를 의사결정 할지 0부터 50까지 10 단위로 작성. 만약 HOLD면 0으로 설정\",\n",
    "        \"summary\": \"투자 결정에 대한 이유를 자세히 서술\",\n",
    "    }}\n",
    "\n",
    "    주의사항:\n",
    "    - decision은 반드시 BUY 또는 SELL 또는 HOLD 중 하나여야 합니다\n",
    "    \"\"\"\n",
    "\n",
    "master_prompt_template = PromptTemplate.from_template(master_template)\n",
    "\n",
    "class MasterAnalysis(BaseModel):\n",
    "    summary: str\n",
    "    percentage: int\n",
    "    decision: Literal[\"BUY\", \"SELL\", \"HOLD\"]\n",
    "\n",
    "master_output_parser = JsonOutputParser(pydantic_object=MasterAnalysis)\n",
    "master_chain = master_prompt_template | llm | master_output_parser\n",
    "\n",
    "def count_decision(decision: Optional[str]) -> tuple[int, int, int]:\n",
    "    \"\"\"\n",
    "    단일 결정에 대해 BUY/SELL/HOLD 카운트를 반환합니다.\n",
    "    각 결정은 하나의 값만 가질 수 있으므로 (1,0,0), (0,1,0), (0,0,1) 중 하나를 반환합니다.\n",
    "    반환값 순서: (BUY, SELL, HOLD)\n",
    "    \"\"\"\n",
    "    if not decision:\n",
    "        return (0, 0, 0)\n",
    "    \n",
    "    if decision == \"BUY\":\n",
    "        return (1, 0, 0)\n",
    "    elif decision == \"SELL\":\n",
    "        return (0, 1, 0)\n",
    "    elif decision == \"HOLD\":\n",
    "        return (0, 0, 1)\n",
    "    return (0, 0, 0)  # 유효하지 않은 결정의 경우\n",
    "\n",
    "def master_agent(state: State) -> State:\n",
    "    # 초기 카운트 값들 (BUY, SELL, HOLD 순서)\n",
    "    total_buy = 0\n",
    "    total_sell = 0\n",
    "    total_hold = 0\n",
    "\n",
    "    # 1. Fear & Greed 결정 카운트\n",
    "    if state.fng and \"decision\" in state.fng:\n",
    "        buy, sell, hold = count_decision(state.fng[\"decision\"])\n",
    "        total_buy += buy\n",
    "        total_sell += sell\n",
    "        total_hold += hold\n",
    "\n",
    "    # 2. 뉴스 검색 결정 카운트\n",
    "    if state.news_search and \"decision\" in state.news_search:\n",
    "        buy, sell, hold = count_decision(state.news_search[\"decision\"])\n",
    "        total_buy += buy\n",
    "        total_sell += sell\n",
    "        total_hold += hold\n",
    "\n",
    "    # 투표 결과 결정 (BUY, SELL, HOLD 순서로 조건 체크)\n",
    "    if total_buy > total_sell and total_buy > total_hold:\n",
    "        master_decision = \"BUY\"\n",
    "    elif total_sell > total_buy and total_sell > total_hold:\n",
    "        master_decision = \"SELL\"\n",
    "    elif total_hold > total_buy and total_hold > total_sell:\n",
    "        master_decision = \"HOLD\"\n",
    "    else:\n",
    "        master_decision = \"DRAW\"\n",
    "\n",
    "    print(f\"decision count: BUY({total_buy}), SELL({total_sell}), HOLD({total_hold})\")\n",
    "    print(f\"Master: {master_decision}\")\n",
    "\n",
    "    # 마스터 결정 진행\n",
    "    result = master_chain.invoke({\n",
    "        \"master_decision\": master_decision, \n",
    "        \"contents\": state.messages\n",
    "    })\n",
    "\n",
    "    return state.copy(update={\"messages\": state.messages,\"master\": {\"decision\": result[\"decision\"], \"percentage\": result[\"percentage\"], \"summary\": result[\"summary\"]}})\n"
   ]
  },
  {
   "cell_type": "code",
   "execution_count": 123,
   "metadata": {},
   "outputs": [],
   "source": [
    "# 병렬 방식\n",
    "# 그래프 생성 및 노드 추가\n",
    "graph_builder = StateGraph(State)\n",
    "\n",
    "# 병렬 실행을 위해 각 노드를 START에서 바로 실행\n",
    "graph_builder.add_node(\"fng_agent\", fng_agent)\n",
    "graph_builder.add_node(\"news_search_agent\", news_search_agent)\n",
    "graph_builder.add_node(\"master_agent\", master_agent)\n",
    "\n",
    "# START에서 두 노드를 동시에 실행하고 END로 연결\n",
    "graph_builder.add_edge(START, \"fng_agent\")\n",
    "graph_builder.add_edge(START, \"news_search_agent\")\n",
    "\n",
    "graph_builder.add_edge(\"fng_agent\", \"master_agent\")\n",
    "graph_builder.add_edge(\"news_search_agent\", \"master_agent\")\n",
    "graph_builder.add_edge(\"master_agent\", END)\n",
    "\n",
    "# 그래프 컴파일\n",
    "graph = graph_builder.compile()"
   ]
  },
  {
   "cell_type": "code",
   "execution_count": 124,
   "metadata": {},
   "outputs": [],
   "source": [
    "# # 직렬 방식\n",
    "# # 그래프 생성 및 노드 추가\n",
    "# graph_builder = StateGraph(State)\n",
    "\n",
    "# # 병렬 실행을 위해 각 노드를 START에서 바로 실행\n",
    "# graph_builder.add_node(\"fng_agent\", fng_agent)\n",
    "# graph_builder.add_node(\"news_search_agent\", news_search_agent)\n",
    "# graph_builder.add_node(\"master_agent\", master_agent)\n",
    "\n",
    "# # START에서 두 노드를 동시에 실행하고 END로 연결\n",
    "# graph_builder.add_edge(START, \"fng_agent\")\n",
    "# graph_builder.add_edge(\"fng_agent\", \"news_search_agent\")\n",
    "# graph_builder.add_edge(\"news_search_agent\", \"master_agent\")\n",
    "# graph_builder.add_edge(\"master_agent\", END)\n",
    "\n",
    "# # 그래프 컴파일\n",
    "# graph = graph_builder.compile()"
   ]
  },
  {
   "cell_type": "code",
   "execution_count": 125,
   "metadata": {},
   "outputs": [
    {
     "data": {
      "image/jpeg": "[encoded data removed]",
      "text/plain": [
       "<IPython.core.display.Image object>"
      ]
     },
     "metadata": {},
     "output_type": "display_data"
    }
   ],
   "source": [
    "# 결과 시각화\n",
    "from langchain_teddynote.graphs import visualize_graph\n",
    "visualize_graph(graph)"
   ]
  },
  {
   "cell_type": "code",
   "execution_count": 126,
   "metadata": {},
   "outputs": [
    {
     "name": "stdout",
     "output_type": "stream",
     "text": [
      "decision count: BUY(2), SELL(0), HOLD(0)\n",
      "Master: BUY\n"
     ]
    }
   ],
   "source": [
    "# 그래프 실행\n",
    "initial_state = State(messages=[(\"user\", \"각 에이전트가 서로 다른 메시지를 받아 분석하세요.\")])\n",
    "result_state = graph.invoke(initial_state)"
   ]
  },
  {
   "cell_type": "code",
   "execution_count": 127,
   "metadata": {},
   "outputs": [
    {
     "name": "stdout",
     "output_type": "stream",
     "text": [
      "{\n",
      "    \"messages\": [\n",
      "        {\n",
      "            \"content\": \"각 에이전트가 서로 다른 메시지를 받아 분석하세요.\",\n",
      "            \"additional_kwargs\": {},\n",
      "            \"response_metadata\": {},\n",
      "            \"type\": \"human\",\n",
      "            \"name\": null,\n",
      "            \"id\": \"df3546d2-6b2b-4b27-be7a-f93e6aa421e7\",\n",
      "            \"example\": false\n",
      "        },\n",
      "        {\n",
      "            \"content\": \"FNG Analysis Decision: BUY, Summary: 지난 30일 동안의 공포 탐욕 지수를 보면, 초기에는 'Extreme Greed' 상태에서 시작하여 점차 'Fear' 상태로 변화하였습니다. 이는 투자자들이 점차 위험을 회피하는 경향을 보였음을 의미합니다. 그러나 최근에는 다시 'Neutral'에서 'Greed' 상태로 변화하였습니다. 이는 투자자들이 다시 위험을 감수하려는 경향이 생겼음을 나타냅니다. 이러한 변화는 시장의 변동성이 높아질 수 있음을 시사하며, 이는 투자 기회를 제공할 수 있습니다. 따라서 현재는 'BUY' 결정을 제안합니다. 그러나 시장 상황은 빠르게 변할 수 있으므로, 투자자들은 계속해서 시장 동향을 주시해야 합니다.\",\n",
      "            \"additional_kwargs\": {},\n",
      "            \"response_metadata\": {},\n",
      "            \"type\": \"human\",\n",
      "            \"name\": null,\n",
      "            \"id\": \"c2d77c0a-2828-41d3-9018-258ad89fa81d\",\n",
      "            \"example\": false\n",
      "        },\n",
      "        {\n",
      "            \"content\": \"News Search Decision: BUY, Summary: 비트코인 가격이 7개월 만에 최고치인 73,000달러를 돌파하였고, 이는 선거와 인플레이션에 대한 불확실성으로 인한 것으로 보입니다. 또한, 미국 대통령이 나이지리아의 암호화폐 협력과 글로벌 개혁을 칭찬하였으며, 이는 암호화폐에 대한 긍정적인 시그널로 해석될 수 있습니다. 그러나 소매 투자자들 사이에서는 비트코인에 대한 관심이 여전히 낮아, 이는 가격 상승의 추가적인 잠재력을 시사할 수 있습니다. 따라서, 현재의 시장 상황을 고려할 때, 비트코인을 매입하는 것이 바람직해 보입니다., Sources: ['https://www.forbes.com/sites/dereksaul/2024/10/29/bitcoin-tops-71000-a-5-month-high-as-election-inflation-questions-swirl/', 'https://www.cnbc.com/2024/10/28/crypto-market-today.html', 'https://news-bitcoin-com.webpkgcache.com/doc/-/s/news.bitcoin.com/us-president-biden-applauds-nigerias-crypto-cooperation-and-push-for-global-reform/', 'https://www.binance.com/hu/square/post/2024-10-30-bitcoin-interest-among-retail-investors-remains-low-despite-recent-surge-15546588391889']\",\n",
      "            \"additional_kwargs\": {},\n",
      "            \"response_metadata\": {},\n",
      "            \"type\": \"human\",\n",
      "            \"name\": null,\n",
      "            \"id\": \"2beaceae-6d57-4ca5-9b57-c1241d6e38d5\",\n",
      "            \"example\": false\n",
      "        }\n",
      "    ],\n",
      "    \"fng\": {\n",
      "        \"decision\": \"BUY\",\n",
      "        \"summary\": \"지난 30일 동안의 공포 탐욕 지수를 보면, 초기에는 'Extreme Greed' 상태에서 시작하여 점차 'Fear' 상태로 변화하였습니다. 이는 투자자들이 점차 위험을 회피하는 경향을 보였음을 의미합니다. 그러나 최근에는 다시 'Neutral'에서 'Greed' 상태로 변화하였습니다. 이는 투자자들이 다시 위험을 감수하려는 경향이 생겼음을 나타냅니다. 이러한 변화는 시장의 변동성이 높아질 수 있음을 시사하며, 이는 투자 기회를 제공할 수 있습니다. 따라서 현재는 'BUY' 결정을 제안합니다. 그러나 시장 상황은 빠르게 변할 수 있으므로, 투자자들은 계속해서 시장 동향을 주시해야 합니다.\"\n",
      "    },\n",
      "    \"news_search\": {\n",
      "        \"decision\": \"BUY\",\n",
      "        \"summary\": \"비트코인 가격이 7개월 만에 최고치인 73,000달러를 돌파하였고, 이는 선거와 인플레이션에 대한 불확실성으로 인한 것으로 보입니다. 또한, 미국 대통령이 나이지리아의 암호화폐 협력과 글로벌 개혁을 칭찬하였으며, 이는 암호화폐에 대한 긍정적인 시그널로 해석될 수 있습니다. 그러나 소매 투자자들 사이에서는 비트코인에 대한 관심이 여전히 낮아, 이는 가격 상승의 추가적인 잠재력을 시사할 수 있습니다. 따라서, 현재의 시장 상황을 고려할 때, 비트코인을 매입하는 것이 바람직해 보입니다.\",\n",
      "        \"sources\": [\n",
      "            \"https://www.forbes.com/sites/dereksaul/2024/10/29/bitcoin-tops-71000-a-5-month-high-as-election-inflation-questions-swirl/\",\n",
      "            \"https://www.cnbc.com/2024/10/28/crypto-market-today.html\",\n",
      "            \"https://news-bitcoin-com.webpkgcache.com/doc/-/s/news.bitcoin.com/us-president-biden-applauds-nigerias-crypto-cooperation-and-push-for-global-reform/\",\n",
      "            \"https://www.binance.com/hu/square/post/2024-10-30-bitcoin-interest-among-retail-investors-remains-low-despite-recent-surge-15546588391889\"\n",
      "        ]\n",
      "    },\n",
      "    \"master\": {\n",
      "        \"decision\": \"BUY\",\n",
      "        \"percentage\": \"30\",\n",
      "        \"summary\": \"투자 전문가들의 의견을 종합해보면, FNG 분석에서는 투자자들의 탐욕 지수가 'Neutral'에서 'Greed' 상태로 변화하였으며, 이는 투자자들이 다시 위험을 감수하려는 경향이 생겼음을 나타냅니다. 또한, 뉴스 검색 결과에서는 비트코인 가격이 7개월 만에 최고치를 돌파하였고, 미국 대통령이 암호화폐에 대한 긍정적인 시그널을 보냈다는 점에서 비트코인에 대한 긍정적인 시장 반응이 예상됩니다. 그러나 시장 상황은 빠르게 변할 수 있으므로, 투자자들은 계속해서 시장 동향을 주시해야 합니다. 이러한 이유로, 현재 비트코인에 대한 투자 결정은 'BUY'이며, 투자 비중은 30%로 설정하였습니다.\"\n",
      "    }\n",
      "}\n"
     ]
    }
   ],
   "source": [
    "def default_serializer(obj):\n",
    "    return obj.__dict__\n",
    "\n",
    "print(json.dumps(result_state, indent=4, ensure_ascii=False, default=default_serializer))"
   ]
  },
  {
   "cell_type": "code",
   "execution_count": 128,
   "metadata": {},
   "outputs": [
    {
     "name": "stdout",
     "output_type": "stream",
     "text": [
      "{'decision': 'BUY', 'summary': \"지난 30일 동안의 공포 탐욕 지수를 보면, 초기에는 'Extreme Greed' 상태에서 시작하여 점차 'Fear' 상태로 변화하였습니다. 이는 투자자들이 점차 위험을 회피하는 경향을 보였음을 의미합니다. 그러나 최근에는 다시 'Neutral'에서 'Greed' 상태로 변화하였습니다. 이는 투자자들이 다시 위험을 감수하려는 경향이 생겼음을 나타냅니다. 이러한 변화는 시장의 변동성이 높아질 수 있음을 시사하며, 이는 투자 기회를 제공할 수 있습니다. 따라서 현재는 'BUY' 결정을 제안합니다. 그러나 시장 상황은 빠르게 변할 수 있으므로, 투자자들은 계속해서 시장 동향을 주시해야 합니다.\"}\n",
      "{'decision': 'BUY', 'summary': '비트코인 가격이 7개월 만에 최고치인 73,000달러를 돌파하였고, 이는 선거와 인플레이션에 대한 불확실성으로 인한 것으로 보입니다. 또한, 미국 대통령이 나이지리아의 암호화폐 협력과 글로벌 개혁을 칭찬하였으며, 이는 암호화폐에 대한 긍정적인 시그널로 해석될 수 있습니다. 그러나 소매 투자자들 사이에서는 비트코인에 대한 관심이 여전히 낮아, 이는 가격 상승의 추가적인 잠재력을 시사할 수 있습니다. 따라서, 현재의 시장 상황을 고려할 때, 비트코인을 매입하는 것이 바람직해 보입니다.', 'sources': ['https://www.forbes.com/sites/dereksaul/2024/10/29/bitcoin-tops-71000-a-5-month-high-as-election-inflation-questions-swirl/', 'https://www.cnbc.com/2024/10/28/crypto-market-today.html', 'https://news-bitcoin-com.webpkgcache.com/doc/-/s/news.bitcoin.com/us-president-biden-applauds-nigerias-crypto-cooperation-and-push-for-global-reform/', 'https://www.binance.com/hu/square/post/2024-10-30-bitcoin-interest-among-retail-investors-remains-low-despite-recent-surge-15546588391889']}\n",
      "{'decision': 'BUY', 'percentage': '30', 'summary': \"투자 전문가들의 의견을 종합해보면, FNG 분석에서는 투자자들의 탐욕 지수가 'Neutral'에서 'Greed' 상태로 변화하였으며, 이는 투자자들이 다시 위험을 감수하려는 경향이 생겼음을 나타냅니다. 또한, 뉴스 검색 결과에서는 비트코인 가격이 7개월 만에 최고치를 돌파하였고, 미국 대통령이 암호화폐에 대한 긍정적인 시그널을 보냈다는 점에서 비트코인에 대한 긍정적인 시장 반응이 예상됩니다. 그러나 시장 상황은 빠르게 변할 수 있으므로, 투자자들은 계속해서 시장 동향을 주시해야 합니다. 이러한 이유로, 현재 비트코인에 대한 투자 결정은 'BUY'이며, 투자 비중은 30%로 설정하였습니다.\"}\n"
     ]
    }
   ],
   "source": [
    "print(result_state[\"fng\"])\n",
    "print(result_state[\"news_search\"])\n",
    "print(result_state[\"master\"])"
   ]
  },
  {
   "cell_type": "code",
   "execution_count": null,
   "metadata": {},
   "outputs": [],
   "source": []
  }
 ],
 "metadata": {
  "kernelspec": {
   "display_name": "Python 3",
   "language": "python",
   "name": "python3"
  },
  "language_info": {
   "codemirror_mode": {
    "name": "ipython",
    "version": 3
   },
   "file_extension": ".py",
   "mimetype": "text/x-python",
   "name": "python",
   "nbconvert_exporter": "python",
   "pygments_lexer": "ipython3",
   "version": "3.11.9"
  }
 },
 "nbformat": 4,
 "nbformat_minor": 2
}
