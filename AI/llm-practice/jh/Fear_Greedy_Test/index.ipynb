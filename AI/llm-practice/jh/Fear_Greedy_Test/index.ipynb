{
 "cells": [
  {
   "cell_type": "code",
   "execution_count": 8,
   "metadata": {},
   "outputs": [
    {
     "name": "stdout",
     "output_type": "stream",
     "text": [
      "LangSmith 추적을 시작합니다.\n",
      "[프로젝트명]\n",
      "fear-greedy\n"
     ]
    }
   ],
   "source": [
    "# API KEY\n",
    "from dotenv import load_dotenv\n",
    "load_dotenv()\n",
    "\n",
    "# LangSmith\n",
    "# !pip install -qU langchain-teddynote\n",
    "from langchain_teddynote import logging\n",
    "logging.langsmith(\"fear-greedy\")"
   ]
  },
  {
   "cell_type": "code",
   "execution_count": 2,
   "metadata": {},
   "outputs": [],
   "source": [
    "url = \"https://api.alternative.me/fng/?date_format=kr&limit=\""
   ]
  },
  {
   "cell_type": "code",
   "execution_count": 28,
   "metadata": {},
   "outputs": [],
   "source": [
    "import requests\n",
    "import json\n",
    "\n",
    "def get_fear():\n",
    "    # 30일로 설정\n",
    "    _url = url + \"30\"\n",
    "    res = requests.request(\"GET\", _url)\n",
    "\n",
    "    parsed = json.loads(res.text)\n",
    "    data = parsed[\"data\"]\n",
    "\n",
    "    # 데이터의 value 값만 리스트로 추출\n",
    "    values = [int(item['value']) for item in data]\n",
    "\n",
    "    return values"
   ]
  },
  {
   "cell_type": "code",
   "execution_count": 29,
   "metadata": {},
   "outputs": [
    {
     "name": "stdout",
     "output_type": "stream",
     "text": [
      "[69, 71, 70, 72, 73, 72, 73, 71, 73, 65, 48, 50, 49, 32, 39, 49, 49, 50, 50, 49, 41, 37, 42, 50, 61, 63, 64, 61, 50, 59]\n"
     ]
    }
   ],
   "source": [
    "print(get_fear())"
   ]
  },
  {
   "cell_type": "code",
   "execution_count": 35,
   "metadata": {},
   "outputs": [
    {
     "data": {
      "text/plain": [
       "PromptTemplate(input_variables=['values'], template='당신은 투자 전문가 입니다. \\n    현재 공포 탐욕 지수의 최근 30일 지수의 정보는 다음과 같습니다. {values}\\n\\n    분석 결과를 다음 JSON 형식으로 제공해주세요:\\n    {{\\n        \"summary\": \"시장 분석 및 예측 내용을 상세히 서술\",\\n        \"decision\": \"BUY 또는 SELL 중 하나로만 작성\"\\n    }}\\n\\n    주의사항:\\n    - summary는 현재 시장 상황과 향후 전망을 포함해야 합니다\\n    - decision은 반드시 BUY 또는 SELL 중 하나여야 합니다\\n    ')"
      ]
     },
     "execution_count": 35,
     "metadata": {},
     "output_type": "execute_result"
    }
   ],
   "source": [
    "from langchain_openai import ChatOpenAI\n",
    "from langchain_core.prompts import PromptTemplate\n",
    "from langchain_core.output_parsers import JsonOutputParser\n",
    "from typing import Literal, TypedDict\n",
    "\n",
    "# 1. model\n",
    "model = ChatOpenAI(\n",
    "    model=\"gpt-3.5-turbo\",\n",
    "    max_tokens=2048,\n",
    "    temperature=0.1,\n",
    ")\n",
    "\n",
    "# 2. template\n",
    "template = \"\"\"당신은 투자 분석 전문가 입니다. \n",
    "    현재 공포 탐욕 지수의 최근 30일 지수의 정보는 다음과 같습니다: {values}\n",
    "\n",
    "    분석 결과를 다음 JSON 형식으로 제공해주세요:\n",
    "    {{\n",
    "        \"summary\": \"시장 분석 및 예측 내용을 상세히 서술\",\n",
    "        \"decision\": \"BUY 또는 SELL 중 하나로만 작성\"\n",
    "    }}\n",
    "\n",
    "    주의사항:\n",
    "    - summary는 현재 시장 상황과 향후 전망을 포함해야 합니다\n",
    "    - decision은 반드시 BUY 또는 SELL 중 하나여야 합니다\n",
    "    \"\"\"\n",
    "\n",
    "prompt_template = PromptTemplate.from_template(template)\n",
    "\n",
    "# 3. outputParser\n",
    "class Analysis(TypedDict):\n",
    "    summary: str\n",
    "    decision: Literal[\"BUY\", \"SELL\"]\n",
    "\n",
    "output_parser = JsonOutputParser(pydantic_object=Analysis)\n",
    "\n",
    "prompt_template"
   ]
  },
  {
   "cell_type": "code",
   "execution_count": 42,
   "metadata": {},
   "outputs": [
    {
     "name": "stdout",
     "output_type": "stream",
     "text": [
      "{'summary': '최근 30일간의 공포 탐욕 지수를 분석한 결과, 최근에는 상승세를 보이고 있었지만, 이후 하락세를 보이며 안정화되고 있는 모습을 보입니다. 현재 시장은 상당히 변동성이 높은 상황이며, 투자자들의 불안감이 높아지고 있는 것으로 판단됩니다. 미래 전망은 불확실하며, 추가적인 경제 지표와 이벤트에 따라 시장이 크게 변동할 수 있습니다.', 'decision': 'SELL'}\n",
      "summary:  최근 30일간의 공포 탐욕 지수를 분석한 결과, 최근에는 상승세를 보이고 있었지만, 이후 하락세를 보이며 안정화되고 있는 모습을 보입니다. 현재 시장은 상당히 변동성이 높은 상황이며, 투자자들의 불안감이 높아지고 있는 것으로 판단됩니다. 미래 전망은 불확실하며, 추가적인 경제 지표와 이벤트에 따라 시장이 크게 변동할 수 있습니다.\n",
      "decision:  SELL\n"
     ]
    }
   ],
   "source": [
    "# chain\n",
    "chain = prompt_template | model | output_parser\n",
    "chain\n",
    "\n",
    "values = get_fear()\n",
    "result = chain.invoke({\"values\": values})\n",
    "print(result)\n",
    "print('summary: ', result['summary'])\n",
    "print('decision: ', result['decision'])"
   ]
  },
  {
   "cell_type": "code",
   "execution_count": null,
   "metadata": {},
   "outputs": [],
   "source": []
  },
  {
   "cell_type": "code",
   "execution_count": null,
   "metadata": {},
   "outputs": [],
   "source": []
  }
 ],
 "metadata": {
  "language_info": {
   "name": "python"
  }
 },
 "nbformat": 4,
 "nbformat_minor": 2
}
