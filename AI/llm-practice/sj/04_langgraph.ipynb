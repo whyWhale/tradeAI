{
 "cells": [
  {
   "cell_type": "code",
   "execution_count": 11,
   "metadata": {},
   "outputs": [
    {
     "name": "stderr",
     "output_type": "stream",
     "text": [
      "Python-dotenv could not parse statement starting at line 2\n",
      "Python-dotenv could not parse statement starting at line 8\n",
      "Python-dotenv could not parse statement starting at line 9\n",
      "Python-dotenv could not parse statement starting at line 10\n",
      "Python-dotenv could not parse statement starting at line 11\n",
      "Python-dotenv could not parse statement starting at line 12\n",
      "Python-dotenv could not parse statement starting at line 13\n",
      "Python-dotenv could not parse statement starting at line 14\n",
      "Python-dotenv could not parse statement starting at line 15\n",
      "Python-dotenv could not parse statement starting at line 16\n",
      "Python-dotenv could not parse statement starting at line 17\n"
     ]
    },
    {
     "data": {
      "text/plain": [
       "True"
      ]
     },
     "execution_count": 11,
     "metadata": {},
     "output_type": "execute_result"
    }
   ],
   "source": [
    "# API 키를 환경변수로 관리하기 위한 설정 파일\n",
    "from dotenv import load_dotenv\n",
    "\n",
    "# API 키 정보 로드\n",
    "load_dotenv()"
   ]
  },
  {
   "cell_type": "code",
   "execution_count": 12,
   "metadata": {},
   "outputs": [
    {
     "name": "stdout",
     "output_type": "stream",
     "text": [
      "LangSmith 추적을 시작합니다.\n",
      "[프로젝트명]\n",
      "TEST_LangGraph\n"
     ]
    }
   ],
   "source": [
    "# LangSmith 추적을 설정합니다. https://smith.langchain.com\n",
    "# !pip install -qU langchain-teddynote\n",
    "from langchain_teddynote import logging\n",
    "\n",
    "# 프로젝트 이름을 입력합니다.\n",
    "logging.langsmith(\"TEST_LangGraph\")"
   ]
  },
  {
   "cell_type": "markdown",
   "metadata": {},
   "source": [
    "### SerpAPI 연동 확인"
   ]
  },
  {
   "cell_type": "code",
   "execution_count": 13,
   "metadata": {},
   "outputs": [],
   "source": [
    "from langchain_community.utilities import SerpAPIWrapper\n",
    "\n",
    "search = SerpAPIWrapper()"
   ]
  },
  {
   "cell_type": "code",
   "execution_count": 14,
   "metadata": {},
   "outputs": [
    {
     "data": {
      "text/plain": [
       "'Barack Hussein Obama II (born August 4, 1961) is an American politician who served as the 44th president of the United States from 2009 to 2017.'"
      ]
     },
     "execution_count": 14,
     "metadata": {},
     "output_type": "execute_result"
    }
   ],
   "source": [
    "search.run(\"Obama's first name?\")"
   ]
  },
  {
   "cell_type": "code",
   "execution_count": 15,
   "metadata": {},
   "outputs": [
    {
     "data": {
      "text/plain": [
       "'[\\'삼성이 주관하고, 고용노동부가 후원하는 “청년 취업프로그램“ | SW 교육, 취업 지원, 코딩 교육, IT교육, AI.\\', \\'Writer: Harim Kang. SSAFY란? 삼성 청년 소프트웨어 아카데미를 의미합니다. 삼성의 SW 교육 경험과 고용노동부의 취업 지원 노하우를 바탕으로, ...\\', \\'삼성과 고용노동부가 함께 취업 준비생에게 SW 역량 향상 교육 및 다양한 취업지원 서비스를 제공하여 취업에 성공하도록 돕는 프로그램. SSAFY의 인재상.\\', \\'SSAFY는 Samsung Software Academy For Youth의 약자로, 삼성 그룹의 후원으로 진행되는 IT 취업 교육이다. 멀티캠퍼스라는 업체에 교육을 위탁해서 진행 ...\\', \\'고용노동부의 취업지원 노하우와 삼성의 SW 교육 경험을 바탕으로,. 취업 준비생에게 SW 역량 향상 교육 및 다양한 취업 지원 서비스를 제공하여. 취업에 ...\\', \\'“프로젝트 기반의 자기주도형 학습” 을 통해 SW 실무 역량을 향상시키고. 팀워크를 발휘하여 협업하는 경험을 통해 취업 경쟁력을 강화할 수 있습니다. •웹기술. •웹디자인.\\', \"\\'SSAFY\\'는 삼성이 2018년 발표한 \\'경제 활성화와 일자리 창출 방안\\'의 일환으로, 국내 IT 생태계 저변을 확대하고 청년 취업 경쟁력을 높이기 위해 운영 ...\", \\'SSAFY는 SAMSUNG SOFTWARE ACADEMY FOR YOUTH의 줄임말입니다. 삼성 청년 SW 아카데미를 뜻하는데요, 싸피는 삼성의 SW 교육 경험 및 고용노동부의 ...\\', \"SSAFY는 삼성이 2018년 발표한 \\'경제 활성화와 일자리 창출 방안\\'의 일환으로, 국내 IT 생태계 저변을 확대하고 청년 취업 경쟁력을 높이기 위해 시작한 ...\", \\'출판사 리뷰 출판사 리뷰 보이기/감추기. SSAFY는 SAMSUNG SOFTWARE ACADEMY FOR YOUTH의 줄임말로 삼성 청년 SW 아카데미를 뜻한다. ... 단, 당일 00시~13 ...\\']'"
      ]
     },
     "execution_count": 15,
     "metadata": {},
     "output_type": "execute_result"
    }
   ],
   "source": [
    "search.run(\"SSAFY의 뜻은?\")"
   ]
  },
  {
   "cell_type": "markdown",
   "metadata": {},
   "source": [
    "### SerpAPI Custom Parameters"
   ]
  },
  {
   "cell_type": "code",
   "execution_count": 18,
   "metadata": {},
   "outputs": [],
   "source": [
    "# 검색 엔진을 google에서 bing으로도 바꿀 수 있음\n",
    "params = {\n",
    "    \"engine\": \"bing\",\n",
    "    \"gl\": \"us\",\n",
    "    \"hl\": \"en\",\n",
    "}\n",
    "search = SerpAPIWrapper(params=params)"
   ]
  },
  {
   "cell_type": "code",
   "execution_count": 19,
   "metadata": {},
   "outputs": [
    {
     "data": {
      "text/plain": [
       "'[\\'Barack Hussein Obama II is an American politician who served as the 44th president of the United States from 2009 to 2017. As a member of the Democratic Party, he was the first African-American presi…New content will be added above the current area of focus upon selectionBarack Hussein Obama II is an American politician who served as the 44th president of the United States from 2009 to 2017. As a member of the Democratic Party, he was the first African-American president in U.S. history. Obama previously served as a U.S. senator representing Illinois from 2005 to 2008 and as an Illinois state senator from 1997 to 2004.Wikipediabarackobama.com\\', \\'Barack Obama type: 44th President of the USA.\\', \\'In 1975, when Obama started high school in Hawaii, teacher Eric Kusunoki read the roll call and stumbled on Obama\\\\\\'s first name. \"Is Barack here?\" he asked, pronouncing it BAR-rack .\\', \"Barack Obama, the 44th president of the United States, was born on August 4, 1961, in Honolulu, Hawaii to Barack Obama, Sr. (1936–1982) (born in Oriang\\' Kogelo of Rachuonyo North District, Kenya) and Stanley Ann Dunham, known as Ann (1942–1995) (born in Wichita, Kansas, United States). Obama spent most of his childhood years in Honolulu, where his mother attended the University of Hawaiʻi at Mānoa\", \\'https://www.britannica.com/biography/Barack-Obama\\', \\'https://www.history.com/topics/us-presidents/barack-obama\\', \\'Barack Hussein Obama II (/ b ə ˈ r ɑː k h uː ˈ s eɪ n oʊ ˈ b ɑː m ə / ; born August 4, 1961) [1] is an American politician and attorney. He was the 44th president of the United States from 2009 to 2017. He was the first African-American …\\', \\'US President Barack Obama\\\\\\'s birth certificate, published on Wednesday, names him as \"Barack Hussein Obama, II\". Why does he qualify for the Roman numerals?\\', \\'Barack Obama is the first Black president of the United States. Learn facts about him: his age, height, leadership legacy, quotes, family, and more.\\', \\'Barack Obama is named after his father, who was a Kenyan economist (called under the same name). He’s first real given name is “Barak”, also spelled Baraq (Not to be confused with Barack which is is a building or group of buildings …\\', \\'When Barack Obama was elected president in 2008, he became the first African American to hold the office. The framers of the Constitution always hoped that our leadership would not be limited...\\', \\'When Barack Obama was elected president in 2008, he became the first African American to hold the office. Obama faced major challenges during his two-term tenur...\\']'"
      ]
     },
     "execution_count": 19,
     "metadata": {},
     "output_type": "execute_result"
    }
   ],
   "source": [
    "search.run(\"Obama's first name?\")"
   ]
  },
  {
   "cell_type": "code",
   "execution_count": 23,
   "metadata": {},
   "outputs": [],
   "source": [
    "# 한국어로 검색 결과 반환 가능\n",
    "params = {\n",
    "    \"engine\": \"google\",\n",
    "    # Supported Google Countries(국가)\n",
    "    \"gl\": \"kr\",\n",
    "    # Supported Google Languages(언어)\n",
    "    \"hl\": \"ko\",\n",
    "}\n",
    "search = SerpAPIWrapper(params=params)"
   ]
  },
  {
   "cell_type": "code",
   "execution_count": 24,
   "metadata": {},
   "outputs": [
    {
     "data": {
      "text/plain": [
       "\"['버락 후세인 오바마 2세는 미국의 정치인으로 미합중국 제44대 대통령이다. 2008년 미국 대통령 선거에 민주당 소속으로 출마, 미국 역사상 최초의 아프리카계 미국인 대통령에 당선되었으며, 2012년 미국 대통령 선거에서 재선에 성공해 총 8년의 임기를 마치고 퇴임하였다.', '버락 오바마 (Barack Obama) type: 전 미국의 대통령.', '버락 오바마 (Barack Obama) entity_type: people.', '버락 오바마 (Barack Obama) kgmid: /m/02mjmr.', '버락 오바마 (Barack Obama) 출생: 1961년 8월 4일 (63세), 미국 하와이 호놀룰루 카피올라니 여성병원.', '버락 오바마 (Barack Obama) 배우자: 미셸 오바마 (1992년–).', '버락 오바마 (Barack Obama) 부통령: 조 바이든 (2009년–2017년).', '버락 오바마 (Barack Obama) 학력: 하버드 로 스쿨 (1988년–1991년).', '버락 오바마 (Barack Obama) 자녀: 말리아 오바마, 나타샤 오바마.', '버락 오바마 (Barack Obama) 재임_기간: 2009년 1월 20일–2017년 1월 20일.', '버락 오바마 (Barack Obama) 키: 187cm.', 'Barack Hussein Obama II (born August 4, 1961) is an American politician who served as the 44th president of the United States from 2009 to 2017.', 'Full Name of Father. BARACK. 9. HUSSEIN. OBAMA. 10. Age of Father. 11. Birthplace (Island, State ...', 'In full: Barack Hussein Obama II ; Born: August 4, 1961, Honolulu, Hawaii, U.S. (age 63) ; Title / Office: presidency of the United States of America (2009-2017), ...', 'His last name is Obama, his first name is Barack. He was born in 1961 and any internet search could have given you that answer.', 'Barack Hussein Obama II was born August 4, 1961, in Honolulu, Hawaii, to parents Barack H. Obama, Sr., and Stanley Ann Dunham.', 'Barack Obama served as the 44th President of the United States. His story is the American story — values from the heartland, a middle-class upbringing in a ...', 'Obama IS his last name. His first name is Barack.', 'Barack Hussein Obama II is an American politician and attorney. He was the 44th president of the United States from 2009 to 2017. He was the first ...', 'Hopeful parents named their sons for the first black president, whose first name is a variation of the Hebrew name Baruch, which means “blessed” in English.', 'There is a purported Canadian Birth Certificate, posted on the Internet, in the name of Barack Hussein Obama, Jr.; however, the date of birth is shown as ...']\""
      ]
     },
     "execution_count": 24,
     "metadata": {},
     "output_type": "execute_result"
    }
   ],
   "source": [
    "search.run(\"Obama's first name?\")"
   ]
  },
  {
   "cell_type": "code",
   "execution_count": null,
   "metadata": {},
   "outputs": [],
   "source": []
  },
  {
   "cell_type": "markdown",
   "metadata": {},
   "source": [
    "### Tool로서의 등록"
   ]
  },
  {
   "cell_type": "code",
   "execution_count": 25,
   "metadata": {},
   "outputs": [],
   "source": [
    "from langchain.agents import load_tools\n",
    "tools = load_tools([\"serpapi\"])"
   ]
  },
  {
   "cell_type": "code",
   "execution_count": null,
   "metadata": {},
   "outputs": [],
   "source": []
  },
  {
   "cell_type": "code",
   "execution_count": null,
   "metadata": {},
   "outputs": [],
   "source": []
  },
  {
   "cell_type": "markdown",
   "metadata": {},
   "source": [
    "## 투자 판단 Agent"
   ]
  },
  {
   "cell_type": "code",
   "execution_count": 26,
   "metadata": {},
   "outputs": [
    {
     "name": "stdout",
     "output_type": "stream",
     "text": [
      "\n",
      "\n",
      "\u001b[1m> Entering new AgentExecutor chain...\u001b[0m\n",
      "\u001b[32;1m\u001b[1;3m\n",
      "Invoking: `Search` with `latest Bitcoin market trends news`\n",
      "\n",
      "\n",
      "\u001b[0m\u001b[36;1m\u001b[1;3m[{'title': 'Glassnode Report Reveals Insights on Bitcoin’s Latest Rally – Why Investors Are Paying Attention', 'link': 'https://news-bitcoin-com.webpkgcache.com/doc/-/s/news.bitcoin.com/glassnode-report-reveals-insights-on-bitcoins-latest-rally-why-investors-are-paying-attention/', 'source': 'Bitcoin.com News', 'date': '10 hours ago', 'thumbnail': 'https://serpapi.com/searches/671f19ffd72128b491ea29a4/images/54e679f659c5c86cacf50a9124eb0937bb5bf22c111505c9.jpeg'}, {'title': 'Bitcoin (BTC) Just Delivered Hidden Cross, Shiba Inu (SHIB) Volatility Explosion Might Be Next, Solana (SOL) Is Tired Being Below $200', 'link': 'https://u.today/bitcoin-btc-just-delivered-hidden-cross-shiba-inu-shib-volatility-explosion-might-be-next-solana', 'source': 'U.Today', 'date': '5 hours ago', 'thumbnail': 'https://serpapi.com/searches/671f19ffd72128b491ea29a4/images/54e679f659c5c86c688c073acca48d8ec58da7ccca428e52.jpeg'}, {'title': 'Top 3 Price Prediction Bitcoin, Ethereum, Ripple: BTC $66,000 support remains strong', 'link': 'https://www.fxstreet.com/cryptocurrencies/news/top-3-price-prediction-bitcoin-ethereum-ripple-btc-66-000-support-remains-strong-202410280353', 'source': 'FXStreet', 'date': '1 hour ago', 'thumbnail': 'https://serpapi.com/searches/671f19ffd72128b491ea29a4/images/54e679f659c5c86ce517c530939676025fb230f4178697b6.jpeg'}]\u001b[0m\u001b[32;1m\u001b[1;3m최근의 비트코인 관련 뉴스를 살펴보면 다음과 같습니다:\n",
      "\n",
      "1. [Glassnode Report Reveals Insights on Bitcoin’s Latest Rally – Why Investors Are Paying Attention](https://news-bitcoin-com.webpkgcache.com/doc/-/s/news.bitcoin.com/glassnode-report-reveals-insights-on-bitcoins-latest-rally-why-investors-are-paying-attention/): 이 보고서에 따르면, 비트코인의 최근 상승세에 대한 통찰력을 제공하며, 투자자들이 왜 주목하고 있는지에 대한 정보를 제공합니다.\n",
      "\n",
      "2. [Bitcoin (BTC) Just Delivered Hidden Cross, Shiba Inu (SHIB) Volatility Explosion Might Be Next, Solana (SOL) Is Tired Being Below $200](https://u.today/bitcoin-btc-just-delivered-hidden-cross-shiba-inu-shib-volatility-explosion-might-be-next-solana): 비트코인이 숨겨진 크로스를 제공했으며, Shiba Inu의 변동성 폭발이 다음일 수 있음을 암시하고 있습니다.\n",
      "\n",
      "3. [Top 3 Price Prediction Bitcoin, Ethereum, Ripple: BTC $66,000 support remains strong](https://www.fxstreet.com/cryptocurrencies/news/top-3-price-prediction-bitcoin-ethereum-ripple-btc-66-000-support-remains-strong-202410280353): 비트코인의 $66,000 지지선이 여전히 강하다는 예측을 제공하고 있습니다.\n",
      "\n",
      "이러한 정보를 바탕으로, 비트코인의 현재 상황과 시장 동향을 고려하면, 비트코인을 유지하는 것이 좋을 것 같습니다. 하지만 항상 주의해야 할 점은 암호화폐 시장은 매우 변동성이 크므로, 투자 결정은 개인의 투자 목표와 위험 허용 수준에 따라 달라져야 한다는 것입니다.\u001b[0m\n",
      "\n",
      "\u001b[1m> Finished chain.\u001b[0m\n",
      "Agent 실행 결과:\n",
      "최근의 비트코인 관련 뉴스를 살펴보면 다음과 같습니다:\n",
      "\n",
      "1. [Glassnode Report Reveals Insights on Bitcoin’s Latest Rally – Why Investors Are Paying Attention](https://news-bitcoin-com.webpkgcache.com/doc/-/s/news.bitcoin.com/glassnode-report-reveals-insights-on-bitcoins-latest-rally-why-investors-are-paying-attention/): 이 보고서에 따르면, 비트코인의 최근 상승세에 대한 통찰력을 제공하며, 투자자들이 왜 주목하고 있는지에 대한 정보를 제공합니다.\n",
      "\n",
      "2. [Bitcoin (BTC) Just Delivered Hidden Cross, Shiba Inu (SHIB) Volatility Explosion Might Be Next, Solana (SOL) Is Tired Being Below $200](https://u.today/bitcoin-btc-just-delivered-hidden-cross-shiba-inu-shib-volatility-explosion-might-be-next-solana): 비트코인이 숨겨진 크로스를 제공했으며, Shiba Inu의 변동성 폭발이 다음일 수 있음을 암시하고 있습니다.\n",
      "\n",
      "3. [Top 3 Price Prediction Bitcoin, Ethereum, Ripple: BTC $66,000 support remains strong](https://www.fxstreet.com/cryptocurrencies/news/top-3-price-prediction-bitcoin-ethereum-ripple-btc-66-000-support-remains-strong-202410280353): 비트코인의 $66,000 지지선이 여전히 강하다는 예측을 제공하고 있습니다.\n",
      "\n",
      "이러한 정보를 바탕으로, 비트코인의 현재 상황과 시장 동향을 고려하면, 비트코인을 유지하는 것이 좋을 것 같습니다. 하지만 항상 주의해야 할 점은 암호화폐 시장은 매우 변동성이 크므로, 투자 결정은 개인의 투자 목표와 위험 허용 수준에 따라 달라져야 한다는 것입니다.\n"
     ]
    }
   ],
   "source": [
    "from langchain_community.utilities import SerpAPIWrapper\n",
    "from langchain.agents import load_tools, create_tool_calling_agent\n",
    "from langchain_core.prompts import ChatPromptTemplate\n",
    "from langchain_openai import ChatOpenAI\n",
    "from langchain.agents import AgentExecutor\n",
    "import os\n",
    "\n",
    "# SerpAPIWrapper 초기화 (API 키는 환경 변수에서 로드)\n",
    "search = SerpAPIWrapper()\n",
    "\n",
    "# 필요한 도구 로드 (검색 도구 포함)\n",
    "tools = load_tools([\"serpapi\"])\n",
    "\n",
    "# 프롬프트 템플릿 설정: 에이전트에게 검색 도구 사용을 명확히 안내\n",
    "prompt = ChatPromptTemplate.from_messages(\n",
    "    [\n",
    "        (\n",
    "            \"system\",\n",
    "            \"You are a financial analyst assistant. Use the `search_news` tool to find the latest information about Bitcoin's current status, market trends, and any major news.\",\n",
    "        ),\n",
    "        (\"placeholder\", \"{chat_history}\"),\n",
    "        (\"human\", \"{input}\"),\n",
    "        (\"placeholder\", \"{agent_scratchpad}\"),\n",
    "    ]\n",
    ")\n",
    "\n",
    "# LLM 설정 (모델 이름과 온도는 필요에 따라 변경 가능)\n",
    "llm = ChatOpenAI(model=\"gpt-4\", temperature=0)\n",
    "\n",
    "# 에이전트 생성\n",
    "agent = create_tool_calling_agent(llm, tools, prompt)\n",
    "\n",
    "# AgentExecutor 설정: 최대 반복 횟수 및 실행 시간 등 설정 가능\n",
    "agent_executor = AgentExecutor(\n",
    "    agent=agent,\n",
    "    tools=tools,\n",
    "    verbose=True,\n",
    "    max_iterations=5,\n",
    "    max_execution_time=60,  # 최대 60초 동안 실행\n",
    "    handle_parsing_errors=True,\n",
    ")\n",
    "\n",
    "# 에이전트를 사용하여 비트코인 관련 최신 정보를 검색하고 투자 결정을 내리도록 질의\n",
    "result = agent_executor.invoke({\"input\": \"현재 비트코인 시장 동향을 검색하고, 매수, 매도, 유지 중 하나를 추천해 주세요.\"})\n",
    "\n",
    "# 결과 출력\n",
    "print(\"Agent 실행 결과:\")\n",
    "print(result[\"output\"])\n"
   ]
  },
  {
   "cell_type": "code",
   "execution_count": null,
   "metadata": {},
   "outputs": [],
   "source": []
  }
 ],
 "metadata": {
  "kernelspec": {
   "display_name": "Python 3 (ipykernel)",
   "language": "python",
   "name": "python3"
  },
  "language_info": {
   "codemirror_mode": {
    "name": "ipython",
    "version": 3
   },
   "file_extension": ".py",
   "mimetype": "text/x-python",
   "name": "python",
   "nbconvert_exporter": "python",
   "pygments_lexer": "ipython3",
   "version": "3.11.9"
  }
 },
 "nbformat": 4,
 "nbformat_minor": 4
}
