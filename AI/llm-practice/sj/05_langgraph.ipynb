{
 "cells": [
  {
   "cell_type": "code",
   "execution_count": 51,
   "metadata": {},
   "outputs": [],
   "source": [
    "from typing import Annotated, TypedDict, Optional, Literal\n",
    "from langgraph.graph import StateGraph, START, END\n",
    "from langgraph.graph.message import add_messages\n",
    "from langchain_community.utilities import SerpAPIWrapper\n",
    "from langchain.agents import load_tools, create_tool_calling_agent\n",
    "from langchain_core.prompts import PromptTemplate\n",
    "from langchain_core.output_parsers import JsonOutputParser\n",
    "from langchain_openai import ChatOpenAI\n",
    "from langchain.agents import AgentExecutor\n",
    "import os\n",
    "import json\n",
    "import requests"
   ]
  },
  {
   "cell_type": "code",
   "execution_count": 52,
   "metadata": {
    "scrolled": true
   },
   "outputs": [
    {
     "name": "stderr",
     "output_type": "stream",
     "text": [
      "Python-dotenv could not parse statement starting at line 2\n",
      "Python-dotenv could not parse statement starting at line 8\n",
      "Python-dotenv could not parse statement starting at line 9\n",
      "Python-dotenv could not parse statement starting at line 10\n",
      "Python-dotenv could not parse statement starting at line 11\n",
      "Python-dotenv could not parse statement starting at line 12\n",
      "Python-dotenv could not parse statement starting at line 13\n",
      "Python-dotenv could not parse statement starting at line 14\n",
      "Python-dotenv could not parse statement starting at line 15\n",
      "Python-dotenv could not parse statement starting at line 16\n",
      "Python-dotenv could not parse statement starting at line 17\n"
     ]
    },
    {
     "data": {
      "text/plain": [
       "True"
      ]
     },
     "execution_count": 52,
     "metadata": {},
     "output_type": "execute_result"
    }
   ],
   "source": [
    "# api key\n",
    "from dotenv import load_dotenv\n",
    "\n",
    "load_dotenv()"
   ]
  },
  {
   "cell_type": "code",
   "execution_count": 53,
   "metadata": {},
   "outputs": [
    {
     "name": "stdout",
     "output_type": "stream",
     "text": [
      "LangSmith 추적을 시작합니다.\n",
      "[프로젝트명]\n",
      "TEST_LangGraph\n"
     ]
    }
   ],
   "source": [
    "# LangSmith 추적을 설정합니다. https://smith.langchain.com\n",
    "# !pip install -qU langchain-teddynote\n",
    "from langchain_teddynote import logging\n",
    "\n",
    "# 프로젝트 이름을 입력합니다.\n",
    "logging.langsmith(\"TEST_LangGraph\")"
   ]
  },
  {
   "cell_type": "markdown",
   "metadata": {},
   "source": [
    "### State 정의 - 두 개의 에이전트 노드 연결 예정"
   ]
  },
  {
   "cell_type": "code",
   "execution_count": 54,
   "metadata": {},
   "outputs": [],
   "source": [
    "class State(TypedDict):\n",
    "    messages: Annotated[list, add_messages]\n",
    "    fng: Optional[dict] = None\n",
    "    # 뉴스 검색 에이전트 노드 추가\n",
    "    news_search: Optional[dict] = None"
   ]
  },
  {
   "cell_type": "markdown",
   "metadata": {},
   "source": [
    "### 공포 탐욕 지수 기반 투자 판단 에이전트"
   ]
  },
  {
   "cell_type": "code",
   "execution_count": 55,
   "metadata": {},
   "outputs": [],
   "source": [
    "# 공포 탐욕 지수 함수 정의\n",
    "url = \"https://api.alternative.me/fng/?date_format=kr&limit=\"\n",
    "\n",
    "def get_fng():\n",
    "    _url = url + \"30\"\n",
    "    res = requests.request(\"GET\", _url)\n",
    "    parsed = json.loads(res.text)\n",
    "    data = parsed[\"data\"]\n",
    "    values = [int(item['value']) for item in data]\n",
    "    return values"
   ]
  },
  {
   "cell_type": "code",
   "execution_count": 56,
   "metadata": {},
   "outputs": [],
   "source": [
    "# fng_agent 정의\n",
    "fng_template = \"\"\"당신은 투자 분석 전문가 입니다. \n",
    "    현재 공포 탐욕 지수의 최근 30일 지수의 정보는 다음과 같습니다: {values}\n",
    "\n",
    "    분석 결과를 다음 JSON 형식으로 제공해주세요:\n",
    "    {{\n",
    "        \"decision\": \"BUY 또는 SELL 또는 HOLD 중 하나로만 작성\",\n",
    "        \"summary\": \"시장 분석 및 예측 내용을 상세히 서술. 투자 결정을 제안하고 해당 이유를 서술\",\n",
    "    }}\n",
    "\n",
    "    주의사항:\n",
    "    - decision은 반드시 BUY 또는 SELL 또는 HOLD 중 하나여야 합니다\n",
    "    - summary는 현재 시장 상황과 향후 전망을 포함해야 합니다. 투자 결정을 제안하고 해당 이유를 서술해야 합니다\n",
    "    \"\"\"\n",
    "fng_prompt_template = PromptTemplate.from_template(fng_template)"
   ]
  },
  {
   "cell_type": "code",
   "execution_count": 57,
   "metadata": {},
   "outputs": [],
   "source": [
    "class FngAnalysis(TypedDict):\n",
    "    summary: str\n",
    "    decision: Literal[\"BUY\", \"SELL\", \"HOLD\"]"
   ]
  },
  {
   "cell_type": "code",
   "execution_count": 58,
   "metadata": {},
   "outputs": [],
   "source": [
    "llm = ChatOpenAI(model=\"gpt-4\", temperature=0)\n",
    "json_output_parser = JsonOutputParser(pydantic_object=FngAnalysis)\n",
    "fng_chain = fng_prompt_template | llm | json_output_parser"
   ]
  },
  {
   "cell_type": "code",
   "execution_count": 59,
   "metadata": {},
   "outputs": [],
   "source": [
    "def fng_agent(state: State) -> State:\n",
    "    fng_info = get_fng()\n",
    "    result = fng_chain.invoke({\"values\": fng_info})\n",
    "    return {**state, \"fng\": {\"decision\": result[\"decision\"], \"summary\": result[\"summary\"]}}"
   ]
  },
  {
   "cell_type": "markdown",
   "metadata": {},
   "source": [
    "### 뉴스 기반 투자 판단 에이전트"
   ]
  },
  {
   "cell_type": "code",
   "execution_count": 60,
   "metadata": {},
   "outputs": [],
   "source": [
    "# SerpAPIWrapper 초기화(params 조정 가능)\n",
    "search = SerpAPIWrapper()"
   ]
  },
  {
   "cell_type": "code",
   "execution_count": 61,
   "metadata": {},
   "outputs": [],
   "source": [
    "# # Tool 등록이 필요할까?\n",
    "# # tool 로드\n",
    "# tools = load_tools([\"serpapi\"])\n",
    "\n",
    "# # SerpAPI 도구 이름 변경 (필요 시 Search로 이름을 변경하여 프롬프트에 반영)\n",
    "# search_tool_name = \"Search\"  # 실제 도구 이름이 'Search'임을 확인했으므로 명확히 사용"
   ]
  },
  {
   "cell_type": "code",
   "execution_count": 62,
   "metadata": {},
   "outputs": [],
   "source": [
    "# 프롬프트 생성\n",
    "news_search_template = \"\"\"당신은 비트코인 시장의 투자 분석 전문가입니다. \n",
    "    최신 뉴스에서 비트코인 관련 시장 동향을 조사하고 이를 분석하여 결정하세요.\n",
    "    \n",
    "    다음의 뉴스 기사들을 참조하여 BUY, SELL, HOLD 중 하나의 결정을 내리세요:\n",
    "    {articles}\n",
    "\n",
    "    결과는 반드시 JSON 형식으로 출력하세요:\n",
    "    {{\n",
    "        \"decision\": \"BUY 또는 SELL 또는 HOLD 중 하나로만 작성\",\n",
    "        \"summary\": \"뉴스 동향에 기반한 시장 분석과 투자 결정을 서술\",\n",
    "        \"sources\": [\"뉴스 기사 링크를 포함해 주세요\"]\n",
    "    }}\n",
    "\n",
    "    주의사항:\n",
    "    - 반드시 제공된 뉴스 기사를 기반으로 결정하세요.\n",
    "    - JSON 형식 이외의 응답은 하지 마세요.\n",
    "    \"\"\"\n",
    "news_search_prompt_template = PromptTemplate.from_template(news_search_template)"
   ]
  },
  {
   "cell_type": "code",
   "execution_count": 63,
   "metadata": {},
   "outputs": [],
   "source": [
    "class NewsSearchAnalysis(TypedDict):\n",
    "    summary: str\n",
    "    decision: Literal[\"BUY\", \"SELL\", \"HOLD\"]\n",
    "    sources: list[str]"
   ]
  },
  {
   "cell_type": "code",
   "execution_count": 64,
   "metadata": {},
   "outputs": [],
   "source": [
    "news_output_parser = JsonOutputParser(pydantic_object=NewsSearchAnalysis)\n",
    "news_search_chain = news_search_prompt_template | llm | news_output_parser"
   ]
  },
  {
   "cell_type": "code",
   "execution_count": 65,
   "metadata": {},
   "outputs": [],
   "source": [
    "# 뉴스 검색 에이전트\n",
    "def news_search_agent(state: State) -> State:\n",
    "    # SerpAPI 검색을 수행하여 기사 제목과 링크를 추출\n",
    "    search_results = search.run(\"bitcoin latest news\")  # 검색어를 사용해 뉴스 검색\n",
    "    articles = \"\\n\".join([f\"- {item['title']} ({item['link']})\" for item in search_results[:5]])\n",
    "\n",
    "    # 모델에 기사 제목과 링크 포함해 프롬프트 생성 및 응답 요청\n",
    "    result = news_search_chain.invoke({\"articles\": articles})\n",
    "\n",
    "    return {**state, \"news_search\": {\"decision\": result[\"decision\"], \"summary\": result[\"summary\"], \"sources\": result[\"sources\"]}}"
   ]
  },
  {
   "cell_type": "markdown",
   "metadata": {},
   "source": [
    "### 그래프 생성 및 노드 추가"
   ]
  },
  {
   "cell_type": "code",
   "execution_count": 66,
   "metadata": {},
   "outputs": [
    {
     "data": {
      "text/plain": [
       "<langgraph.graph.state.StateGraph at 0x244ff0293d0>"
      ]
     },
     "execution_count": 66,
     "metadata": {},
     "output_type": "execute_result"
    }
   ],
   "source": [
    "# 노드 추가\n",
    "graph_builder = StateGraph(State)\n",
    "graph_builder.add_node(\"fng_agent\", fng_agent)\n",
    "graph_builder.add_node(\"news_search_agent\", news_search_agent)"
   ]
  },
  {
   "cell_type": "code",
   "execution_count": 67,
   "metadata": {},
   "outputs": [
    {
     "data": {
      "text/plain": [
       "<langgraph.graph.state.StateGraph at 0x244ff0293d0>"
      ]
     },
     "execution_count": 67,
     "metadata": {},
     "output_type": "execute_result"
    }
   ],
   "source": [
    "# 엣지 추가 (START에서 시작하여 fng_agent -> news_search_agent -> END 순서로 연결)\n",
    "graph_builder.add_edge(START, \"fng_agent\")\n",
    "graph_builder.add_edge(\"fng_agent\", \"news_search_agent\")\n",
    "graph_builder.add_edge(\"news_search_agent\", END)"
   ]
  },
  {
   "cell_type": "code",
   "execution_count": 68,
   "metadata": {},
   "outputs": [],
   "source": [
    "# 그래프 컴파일\n",
    "graph = graph_builder.compile()"
   ]
  },
  {
   "cell_type": "code",
   "execution_count": 69,
   "metadata": {},
   "outputs": [
    {
     "data": {
      "image/jpeg": "[encoded data removed]",
      "text/plain": [
       "<IPython.core.display.Image object>"
      ]
     },
     "metadata": {},
     "output_type": "display_data"
    }
   ],
   "source": [
    "from langchain_teddynote.graphs import visualize_graph\n",
    "visualize_graph(graph)"
   ]
  },
  {
   "cell_type": "markdown",
   "metadata": {},
   "source": [
    "### 랭그래프 실행"
   ]
  },
  {
   "cell_type": "code",
   "execution_count": 70,
   "metadata": {},
   "outputs": [
    {
     "name": "stdout",
     "output_type": "stream",
     "text": [
      "{'messages': [HumanMessage(content='현재 비트코인 시장에 대해 평가하고, 공포 탐욕 지수와 최근 뉴스 동향을 기반으로 매수(BUY), 매도(SELL), 혹은 보유(HOLD) 중 무엇을 추천하는지 구체적인 분석과 함께 알려주세요.', additional_kwargs={}, response_metadata={}, id='0ddab225-d8c0-49a6-bd50-87fa35e0aedd')], 'fng': {'decision': 'BUY', 'summary': \"공포 탐욕 지수는 투자자들의 시장에 대한 감정 상태를 나타내는 지표입니다. 지수가 50 이상이면 투자자들이 탐욕에 빠져 있음을, 50 미만이면 공포에 빠져 있음을 나타냅니다. 최근 30일 동안의 지수를 보면, 대부분의 기간 동안 지수가 70 이상으로 높게 유지되었으나, 중간에 일시적으로 30대로 떨어진 후 다시 60대로 회복하는 모습을 보였습니다. 이는 시장의 변동성이 높고, 투자자들의 감정이 불안정하다는 것을 의미합니다. 하지만, 최근 지수가 다시 상승세를 보이고 있으므로, 이는 시장의 안정화를 의미할 수 있습니다. 따라서, 현재는 시장에 대한 투자자들의 불안감이 줄어들고, 긍정적인 시장 전망이 예상되므로, 'BUY' 결정을 내립니다.\"}, 'news_search': {'decision': 'BUY', 'summary': \"비트코인 가격이 $70,000를 돌파하며 상승세를 보이고 있습니다. 이는 'Binance Whales'에 의해 주도되는 것으로 보입니다. 또한, 일본의 Metaplanet이 최근 $10 million 투자로 비트코인을 1,000개 이상 보유하게 되었으며, 추가로 $11M를 투자하여 포트폴리오를 강화하였습니다. 이러한 투자 활동은 비트코인에 대한 강력한 신뢰를 보여주며, 시장에 긍정적인 영향을 미칠 것으로 예상됩니다.\", 'sources': ['https://www.benzinga.com/markets/cryptocurrency/24/10/41590577/bitcoin-breaks-70k-ethereum-and-dogecoin-rise-amid-stock-rally-ahead-of-mag-7-earnings-ana', 'https://www.cnbc.com/2024/10/28/crypto-market-today.html', 'https://finance.yahoo.com/news/dogecoin-jumps-10-outperforming-trump-201846466.html', 'https://www.theblock.co/post/323204/japans-metaplanet-now-holds-over-1000-bitcoin-with-latest-10-million-investment', 'https://dailycoin.com/metaplanets-bitcoin-stash-tops-1000-btc-following-latest-buy/']}}\n"
     ]
    }
   ],
   "source": [
    "# 그래프 실행\n",
    "initial_state = {\"messages\": [(\"user\", \"현재 비트코인 시장에 대해 평가하고, 공포 탐욕 지수와 최근 뉴스 동향을 기반으로 매수(BUY), 매도(SELL), 혹은 보유(HOLD) 중 무엇을 추천하는지 구체적인 분석과 함께 알려주세요.\"\n",
    ")]}\n",
    "result_state = graph.invoke(initial_state)\n",
    "print(result_state)"
   ]
  }
 ],
 "metadata": {
  "kernelspec": {
   "display_name": "Python 3 (ipykernel)",
   "language": "python",
   "name": "python3"
  },
  "language_info": {
   "codemirror_mode": {
    "name": "ipython",
    "version": 3
   },
   "file_extension": ".py",
   "mimetype": "text/x-python",
   "name": "python",
   "nbconvert_exporter": "python",
   "pygments_lexer": "ipython3",
   "version": "3.11.9"
  }
 },
 "nbformat": 4,
 "nbformat_minor": 4
}
