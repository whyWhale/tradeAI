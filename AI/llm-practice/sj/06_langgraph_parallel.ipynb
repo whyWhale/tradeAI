{
 "cells": [
  {
   "cell_type": "code",
   "execution_count": 12,
   "metadata": {},
   "outputs": [],
   "source": [
    "from typing import Annotated, TypedDict, Optional, Literal\n",
    "from langgraph.graph import StateGraph, START, END\n",
    "from langgraph.graph.message import add_messages\n",
    "from langchain_community.utilities import SerpAPIWrapper\n",
    "from langchain.agents import load_tools, create_tool_calling_agent\n",
    "from langchain_core.prompts import PromptTemplate\n",
    "from langchain_core.output_parsers import JsonOutputParser\n",
    "from langchain_openai import ChatOpenAI\n",
    "from langchain.agents import AgentExecutor\n",
    "import os\n",
    "import json\n",
    "import requests"
   ]
  },
  {
   "cell_type": "code",
   "execution_count": 13,
   "metadata": {},
   "outputs": [
    {
     "name": "stderr",
     "output_type": "stream",
     "text": [
      "Python-dotenv could not parse statement starting at line 2\n",
      "Python-dotenv could not parse statement starting at line 8\n",
      "Python-dotenv could not parse statement starting at line 9\n",
      "Python-dotenv could not parse statement starting at line 10\n",
      "Python-dotenv could not parse statement starting at line 11\n",
      "Python-dotenv could not parse statement starting at line 12\n",
      "Python-dotenv could not parse statement starting at line 13\n",
      "Python-dotenv could not parse statement starting at line 14\n",
      "Python-dotenv could not parse statement starting at line 15\n",
      "Python-dotenv could not parse statement starting at line 16\n",
      "Python-dotenv could not parse statement starting at line 17\n"
     ]
    },
    {
     "data": {
      "text/plain": [
       "True"
      ]
     },
     "execution_count": 13,
     "metadata": {},
     "output_type": "execute_result"
    }
   ],
   "source": [
    "# api key\n",
    "from dotenv import load_dotenv\n",
    "\n",
    "load_dotenv()"
   ]
  },
  {
   "cell_type": "code",
   "execution_count": 14,
   "metadata": {},
   "outputs": [
    {
     "name": "stdout",
     "output_type": "stream",
     "text": [
      "LangSmith 추적을 시작합니다.\n",
      "[프로젝트명]\n",
      "TEST_LangGraph\n"
     ]
    }
   ],
   "source": [
    "# LangSmith 추적을 설정합니다. https://smith.langchain.com\n",
    "# !pip install -qU langchain-teddynote\n",
    "from langchain_teddynote import logging\n",
    "\n",
    "# 프로젝트 이름을 입력합니다.\n",
    "logging.langsmith(\"TEST_LangGraph\")"
   ]
  },
  {
   "cell_type": "code",
   "execution_count": 25,
   "metadata": {},
   "outputs": [],
   "source": [
    "# State 정의\n",
    "class State(BaseModel):\n",
    "    messages: Annotated[list, add_messages]\n",
    "    fng: Optional[dict] = None\n",
    "    news_search: Optional[dict] = None\n",
    "\n",
    "# 공포 탐욕 지수 함수\n",
    "url = \"https://api.alternative.me/fng/?date_format=kr&limit=\"\n",
    "\n",
    "def get_fng():\n",
    "    _url = url + \"30\"\n",
    "    res = requests.request(\"GET\", _url)\n",
    "    parsed = json.loads(res.text)\n",
    "    data = parsed[\"data\"]\n",
    "    values = [int(item['value']) for item in data]\n",
    "    return values\n",
    "\n",
    "# fng_agent 정의\n",
    "fng_template = \"\"\"당신은 투자 분석 전문가 입니다. \n",
    "    현재 공포 탐욕 지수의 최근 30일 지수의 정보는 다음과 같습니다: {values}\n",
    "\n",
    "    분석 결과를 다음 JSON 형식으로 제공해주세요:\n",
    "    {{\n",
    "        \"decision\": \"BUY 또는 SELL 또는 HOLD 중 하나로만 작성\",\n",
    "        \"summary\": \"시장 분석 및 예측 내용을 상세히 서술. 투자 결정을 제안하고 해당 이유를 서술\",\n",
    "    }}\n",
    "\n",
    "    주의사항:\n",
    "    - decision은 반드시 BUY 또는 SELL 또는 HOLD 중 하나여야 합니다\n",
    "    - summary는 현재 시장 상황과 향후 전망을 포함해야 합니다. 투자 결정을 제안하고 해당 이유를 서술해야 합니다\n",
    "    \"\"\"\n",
    "fng_prompt_template = PromptTemplate.from_template(fng_template)\n",
    "\n",
    "class FngAnalysis(TypedDict):\n",
    "    summary: str\n",
    "    decision: Literal[\"BUY\", \"SELL\", \"HOLD\"]\n",
    "\n",
    "llm = ChatOpenAI(model=\"gpt-4\", temperature=0)\n",
    "json_output_parser = JsonOutputParser(pydantic_object=FngAnalysis)\n",
    "fng_chain = fng_prompt_template | llm | json_output_parser\n",
    "\n",
    "def fng_agent(state: State) -> State:\n",
    "    # 공포 탐욕 지수 메시지\n",
    "    fng_info = get_fng()\n",
    "    result = fng_chain.invoke({\"values\": fng_info})\n",
    "    \n",
    "    # 메시지를 추가\n",
    "    new_message = f\"FNG Analysis Decision: {result['decision']}, Summary: {result['summary']}\"\n",
    "    updated_messages = state.messages + [new_message]\n",
    "    \n",
    "    # 상태 업데이트\n",
    "    return state.copy(update={\"messages\": updated_messages, \"fng\": {\"decision\": result[\"decision\"], \"summary\": result[\"summary\"]}})\n",
    "\n",
    "# 뉴스 검색 에이전트\n",
    "search = SerpAPIWrapper()\n",
    "\n",
    "news_search_template = \"\"\"당신은 비트코인 시장의 투자 분석 전문가입니다. \n",
    "    최신 뉴스에서 비트코인 관련 시장 동향을 조사하고 이를 분석하여 결정하세요.\n",
    "    \n",
    "    다음의 뉴스 기사들을 참조하여 BUY, SELL, HOLD 중 하나의 결정을 내리세요:\n",
    "    {articles}\n",
    "\n",
    "    결과는 반드시 JSON 형식으로 출력하세요:\n",
    "    {{\n",
    "        \"decision\": \"BUY 또는 SELL 또는 HOLD 중 하나로만 작성\",\n",
    "        \"summary\": \"뉴스 동향에 기반한 시장 분석과 투자 결정을 서술\",\n",
    "        \"sources\": [\"뉴스 기사 링크를 포함해 주세요\"]\n",
    "    }}\n",
    "    \"\"\"\n",
    "news_search_prompt_template = PromptTemplate.from_template(news_search_template)\n",
    "\n",
    "class NewsSearchAnalysis(BaseModel):\n",
    "    summary: str\n",
    "    decision: Literal[\"BUY\", \"SELL\", \"HOLD\"]\n",
    "    sources: list[str]\n",
    "\n",
    "news_output_parser = JsonOutputParser(pydantic_object=NewsSearchAnalysis)\n",
    "news_search_chain = news_search_prompt_template | llm | news_output_parser\n",
    "\n",
    "def news_search_agent(state: State) -> State:\n",
    "    # 뉴스 메시지\n",
    "    search_results = search.run(\"bitcoin latest news\")\n",
    "    articles = \"\\n\".join([f\"- {item['title']} ({item['link']})\" for item in search_results[:5]])\n",
    "\n",
    "    # 모델에 기사 제목과 링크 포함해 프롬프트 생성 및 응답 요청\n",
    "    result = news_search_chain.invoke({\"articles\": articles})\n",
    "\n",
    "    # 새로운 메시지 추가\n",
    "    new_message = f\"News Search Decision: {result['decision']}, Summary: {result['summary']}, Sources: {result['sources']}\"\n",
    "    updated_messages = state.messages + [new_message]\n",
    "    \n",
    "    # 상태 업데이트\n",
    "    return state.copy(update={\"messages\": updated_messages, \"news_search\": {\"decision\": result[\"decision\"], \"summary\": result[\"summary\"], \"sources\": result[\"sources\"]}})\n",
    "\n",
    "# 그래프 생성 및 노드 추가\n",
    "graph_builder = StateGraph(State)\n",
    "\n",
    "# 병렬 실행을 위해 각 노드를 START에서 바로 실행\n",
    "graph_builder.add_node(\"fng_agent\", fng_agent)\n",
    "graph_builder.add_node(\"news_search_agent\", news_search_agent)\n",
    "\n",
    "# START에서 두 노드를 동시에 실행하고 END로 연결\n",
    "graph_builder.add_edge(START, \"fng_agent\")\n",
    "graph_builder.add_edge(START, \"news_search_agent\")\n",
    "\n",
    "graph_builder.add_edge(\"fng_agent\", END)\n",
    "graph_builder.add_edge(\"news_search_agent\", END)\n",
    "\n",
    "# 그래프 컴파일\n",
    "graph = graph_builder.compile()"
   ]
  },
  {
   "cell_type": "code",
   "execution_count": 26,
   "metadata": {},
   "outputs": [
    {
     "data": {
      "image/jpeg": "[encoded data removed]",
      "text/plain": [
       "<IPython.core.display.Image object>"
      ]
     },
     "metadata": {},
     "output_type": "display_data"
    }
   ],
   "source": [
    "# 결과 시각화\n",
    "from langchain_teddynote.graphs import visualize_graph\n",
    "visualize_graph(graph)\n",
    "\n",
    "# 그래프 실행\n",
    "initial_state = State(messages=[(\"user\", \"각 에이전트가 서로 다른 메시지를 받아 분석하세요.\")])\n",
    "result_state = graph.invoke(initial_state)"
   ]
  },
  {
   "cell_type": "code",
   "execution_count": 27,
   "metadata": {},
   "outputs": [
    {
     "name": "stdout",
     "output_type": "stream",
     "text": [
      "{'messages': [HumanMessage(content='각 에이전트가 서로 다른 메시지를 받아 분석하세요.', additional_kwargs={}, response_metadata={}, id='ec7f2758-19cb-4629-b6df-b428240f8e71'), HumanMessage(content='FNG Analysis Decision: BUY, Summary: 공포 탐욕 지수는 투자자들의 시장에 대한 감정 상태를 나타내는 지표입니다. 지수가 50 이상이면 투자자들이 탐욕에 빠져 있음을, 50 미만이면 공포에 빠져 있음을 의미합니다. 최근 30일 동안의 지수를 보면, 대부분의 기간 동안 지수가 50 이상으로 투자자들이 탐욕에 빠져 있었음을 알 수 있습니다. 그러나 중간에 지수가 급격히 하락하여 30대로 떨어진 후 다시 상승하는 추세를 보이고 있습니다. 이는 일시적인 시장의 불안정성을 나타내는 것으로, 이러한 시기에는 주식 가격이 낮아져 투자 기회가 될 수 있습니다. 따라서 현재는 주식을 매입하는 것이 좋다고 판단됩니다. 하지만 시장 상황은 언제든지 변할 수 있으므로, 투자 결정은 신중하게 이루어져야 합니다.', additional_kwargs={}, response_metadata={}, id='7ce6c172-da51-40f4-9b29-ed9c64463161'), HumanMessage(content=\"News Search Decision: BUY, Summary: 비트코인 가격이 $70,000를 돌파하며 상승세를 보이고 있습니다. 이는 6월 이후 처음으로 이루어진 일로, 투자자들이 기업의 실적 발표와 선거 결과를 기다리는 가운데 일어난 현상입니다. 또한, 일본의 메타플래닛이 최근 $10백만을 투자하여 보유한 비트코인 수가 1,000개를 넘어섰습니다. 이러한 투자는 비트코인에 대한 강력한 신뢰를 보여주며, 시장에 긍정적인 영향을 미칠 것으로 예상됩니다. 또한, 'Binance Whales'에 의해 주도된 현재의 가격 상승은 비트코인에 대한 강력한 수요를 나타내며, 이는 가격 상승을 지속할 가능성을 시사합니다., Sources: ['https://www.benzinga.com/markets/cryptocurrency/24/10/41590577/bitcoin-breaks-70k-ethereum-and-dogecoin-rise-amid-stock-rally-ahead-of-mag-7-earnings-ana', 'https://www.cnbc.com/2024/10/28/crypto-market-today.html', 'https://finance.yahoo.com/news/dogecoin-jumps-10-outperforming-trump-201846466.html', 'https://www.theblock.co/post/323204/japans-metaplanet-now-holds-over-1000-bitcoin-with-latest-10-million-investment', 'https://dailycoin.com/metaplanets-bitcoin-stash-tops-1000-btc-following-latest-buy/']\", additional_kwargs={}, response_metadata={}, id='2593aaf1-16b9-469c-a4cf-291681346ce8')], 'fng': {'decision': 'BUY', 'summary': '공포 탐욕 지수는 투자자들의 시장에 대한 감정 상태를 나타내는 지표입니다. 지수가 50 이상이면 투자자들이 탐욕에 빠져 있음을, 50 미만이면 공포에 빠져 있음을 의미합니다. 최근 30일 동안의 지수를 보면, 대부분의 기간 동안 지수가 50 이상으로 투자자들이 탐욕에 빠져 있었음을 알 수 있습니다. 그러나 중간에 지수가 급격히 하락하여 30대로 떨어진 후 다시 상승하는 추세를 보이고 있습니다. 이는 일시적인 시장의 불안정성을 나타내는 것으로, 이러한 시기에는 주식 가격이 낮아져 투자 기회가 될 수 있습니다. 따라서 현재는 주식을 매입하는 것이 좋다고 판단됩니다. 하지만 시장 상황은 언제든지 변할 수 있으므로, 투자 결정은 신중하게 이루어져야 합니다.'}, 'news_search': {'decision': 'BUY', 'summary': \"비트코인 가격이 $70,000를 돌파하며 상승세를 보이고 있습니다. 이는 6월 이후 처음으로 이루어진 일로, 투자자들이 기업의 실적 발표와 선거 결과를 기다리는 가운데 일어난 현상입니다. 또한, 일본의 메타플래닛이 최근 $10백만을 투자하여 보유한 비트코인 수가 1,000개를 넘어섰습니다. 이러한 투자는 비트코인에 대한 강력한 신뢰를 보여주며, 시장에 긍정적인 영향을 미칠 것으로 예상됩니다. 또한, 'Binance Whales'에 의해 주도된 현재의 가격 상승은 비트코인에 대한 강력한 수요를 나타내며, 이는 가격 상승을 지속할 가능성을 시사합니다.\", 'sources': ['https://www.benzinga.com/markets/cryptocurrency/24/10/41590577/bitcoin-breaks-70k-ethereum-and-dogecoin-rise-amid-stock-rally-ahead-of-mag-7-earnings-ana', 'https://www.cnbc.com/2024/10/28/crypto-market-today.html', 'https://finance.yahoo.com/news/dogecoin-jumps-10-outperforming-trump-201846466.html', 'https://www.theblock.co/post/323204/japans-metaplanet-now-holds-over-1000-bitcoin-with-latest-10-million-investment', 'https://dailycoin.com/metaplanets-bitcoin-stash-tops-1000-btc-following-latest-buy/']}}\n"
     ]
    }
   ],
   "source": [
    "print(result_state)"
   ]
  },
  {
   "cell_type": "code",
   "execution_count": null,
   "metadata": {},
   "outputs": [],
   "source": []
  }
 ],
 "metadata": {
  "kernelspec": {
   "display_name": "Python 3 (ipykernel)",
   "language": "python",
   "name": "python3"
  },
  "language_info": {
   "codemirror_mode": {
    "name": "ipython",
    "version": 3
   },
   "file_extension": ".py",
   "mimetype": "text/x-python",
   "name": "python",
   "nbconvert_exporter": "python",
   "pygments_lexer": "ipython3",
   "version": "3.11.9"
  }
 },
 "nbformat": 4,
 "nbformat_minor": 4
}
