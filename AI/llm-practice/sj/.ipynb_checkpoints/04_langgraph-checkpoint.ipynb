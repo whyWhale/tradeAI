{
 "cells": [
  {
   "cell_type": "code",
   "execution_count": 11,
   "metadata": {},
   "outputs": [
    {
     "name": "stderr",
     "output_type": "stream",
     "text": [
      "Python-dotenv could not parse statement starting at line 2\n",
      "Python-dotenv could not parse statement starting at line 8\n",
      "Python-dotenv could not parse statement starting at line 9\n",
      "Python-dotenv could not parse statement starting at line 10\n",
      "Python-dotenv could not parse statement starting at line 11\n",
      "Python-dotenv could not parse statement starting at line 12\n",
      "Python-dotenv could not parse statement starting at line 13\n",
      "Python-dotenv could not parse statement starting at line 14\n",
      "Python-dotenv could not parse statement starting at line 15\n",
      "Python-dotenv could not parse statement starting at line 16\n",
      "Python-dotenv could not parse statement starting at line 17\n"
     ]
    },
    {
     "data": {
      "text/plain": [
       "True"
      ]
     },
     "execution_count": 11,
     "metadata": {},
     "output_type": "execute_result"
    }
   ],
   "source": [
    "# API 키를 환경변수로 관리하기 위한 설정 파일\n",
    "from dotenv import load_dotenv\n",
    "\n",
    "# API 키 정보 로드\n",
    "load_dotenv()"
   ]
  },
  {
   "cell_type": "code",
   "execution_count": 12,
   "metadata": {},
   "outputs": [
    {
     "name": "stdout",
     "output_type": "stream",
     "text": [
      "LangSmith 추적을 시작합니다.\n",
      "[프로젝트명]\n",
      "TEST_LangGraph\n"
     ]
    }
   ],
   "source": [
    "# LangSmith 추적을 설정합니다. https://smith.langchain.com\n",
    "# !pip install -qU langchain-teddynote\n",
    "from langchain_teddynote import logging\n",
    "\n",
    "# 프로젝트 이름을 입력합니다.\n",
    "logging.langsmith(\"TEST_LangGraph\")"
   ]
  },
  {
   "cell_type": "markdown",
   "metadata": {},
   "source": [
    "### SerpAPI 연동 확인"
   ]
  },
  {
   "cell_type": "code",
   "execution_count": 13,
   "metadata": {},
   "outputs": [],
   "source": [
    "from langchain_community.utilities import SerpAPIWrapper\n",
    "\n",
    "search = SerpAPIWrapper()"
   ]
  },
  {
   "cell_type": "code",
   "execution_count": 14,
   "metadata": {},
   "outputs": [
    {
     "data": {
      "text/plain": [
       "'Barack Hussein Obama II (born August 4, 1961) is an American politician who served as the 44th president of the United States from 2009 to 2017.'"
      ]
     },
     "execution_count": 14,
     "metadata": {},
     "output_type": "execute_result"
    }
   ],
   "source": [
    "search.run(\"Obama's first name?\")"
   ]
  },
  {
   "cell_type": "code",
   "execution_count": 15,
   "metadata": {},
   "outputs": [
    {
     "data": {
      "text/plain": [
       "'[\\'삼성이 주관하고, 고용노동부가 후원하는 “청년 취업프로그램“ | SW 교육, 취업 지원, 코딩 교육, IT교육, AI.\\', \\'Writer: Harim Kang. SSAFY란? 삼성 청년 소프트웨어 아카데미를 의미합니다. 삼성의 SW 교육 경험과 고용노동부의 취업 지원 노하우를 바탕으로, ...\\', \\'삼성과 고용노동부가 함께 취업 준비생에게 SW 역량 향상 교육 및 다양한 취업지원 서비스를 제공하여 취업에 성공하도록 돕는 프로그램. SSAFY의 인재상.\\', \\'SSAFY는 Samsung Software Academy For Youth의 약자로, 삼성 그룹의 후원으로 진행되는 IT 취업 교육이다. 멀티캠퍼스라는 업체에 교육을 위탁해서 진행 ...\\', \\'고용노동부의 취업지원 노하우와 삼성의 SW 교육 경험을 바탕으로,. 취업 준비생에게 SW 역량 향상 교육 및 다양한 취업 지원 서비스를 제공하여. 취업에 ...\\', \\'“프로젝트 기반의 자기주도형 학습” 을 통해 SW 실무 역량을 향상시키고. 팀워크를 발휘하여 협업하는 경험을 통해 취업 경쟁력을 강화할 수 있습니다. •웹기술. •웹디자인.\\', \"\\'SSAFY\\'는 삼성이 2018년 발표한 \\'경제 활성화와 일자리 창출 방안\\'의 일환으로, 국내 IT 생태계 저변을 확대하고 청년 취업 경쟁력을 높이기 위해 운영 ...\", \\'SSAFY는 SAMSUNG SOFTWARE ACADEMY FOR YOUTH의 줄임말입니다. 삼성 청년 SW 아카데미를 뜻하는데요, 싸피는 삼성의 SW 교육 경험 및 고용노동부의 ...\\', \"SSAFY는 삼성이 2018년 발표한 \\'경제 활성화와 일자리 창출 방안\\'의 일환으로, 국내 IT 생태계 저변을 확대하고 청년 취업 경쟁력을 높이기 위해 시작한 ...\", \\'출판사 리뷰 출판사 리뷰 보이기/감추기. SSAFY는 SAMSUNG SOFTWARE ACADEMY FOR YOUTH의 줄임말로 삼성 청년 SW 아카데미를 뜻한다. ... 단, 당일 00시~13 ...\\']'"
      ]
     },
     "execution_count": 15,
     "metadata": {},
     "output_type": "execute_result"
    }
   ],
   "source": [
    "search.run(\"SSAFY의 뜻은?\")"
   ]
  },
  {
   "cell_type": "markdown",
   "metadata": {},
   "source": [
    "### SerpAPI Custom Parameters"
   ]
  },
  {
   "cell_type": "code",
   "execution_count": 18,
   "metadata": {},
   "outputs": [],
   "source": [
    "# 검색 엔진을 google에서 bing으로도 바꿀 수 있음\n",
    "params = {\n",
    "    \"engine\": \"bing\",\n",
    "    \"gl\": \"us\",\n",
    "    \"hl\": \"en\",\n",
    "}\n",
    "search = SerpAPIWrapper(params=params)"
   ]
  },
  {
   "cell_type": "code",
   "execution_count": 19,
   "metadata": {},
   "outputs": [
    {
     "data": {
      "text/plain": [
       "'[\\'Barack Hussein Obama II is an American politician who served as the 44th president of the United States from 2009 to 2017. As a member of the Democratic Party, he was the first African-American presi…New content will be added above the current area of focus upon selectionBarack Hussein Obama II is an American politician who served as the 44th president of the United States from 2009 to 2017. As a member of the Democratic Party, he was the first African-American president in U.S. history. Obama previously served as a U.S. senator representing Illinois from 2005 to 2008 and as an Illinois state senator from 1997 to 2004.Wikipediabarackobama.com\\', \\'Barack Obama type: 44th President of the USA.\\', \\'In 1975, when Obama started high school in Hawaii, teacher Eric Kusunoki read the roll call and stumbled on Obama\\\\\\'s first name. \"Is Barack here?\" he asked, pronouncing it BAR-rack .\\', \"Barack Obama, the 44th president of the United States, was born on August 4, 1961, in Honolulu, Hawaii to Barack Obama, Sr. (1936–1982) (born in Oriang\\' Kogelo of Rachuonyo North District, Kenya) and Stanley Ann Dunham, known as Ann (1942–1995) (born in Wichita, Kansas, United States). Obama spent most of his childhood years in Honolulu, where his mother attended the University of Hawaiʻi at Mānoa\", \\'https://www.britannica.com/biography/Barack-Obama\\', \\'https://www.history.com/topics/us-presidents/barack-obama\\', \\'Barack Hussein Obama II (/ b ə ˈ r ɑː k h uː ˈ s eɪ n oʊ ˈ b ɑː m ə / ; born August 4, 1961) [1] is an American politician and attorney. He was the 44th president of the United States from 2009 to 2017. He was the first African-American …\\', \\'US President Barack Obama\\\\\\'s birth certificate, published on Wednesday, names him as \"Barack Hussein Obama, II\". Why does he qualify for the Roman numerals?\\', \\'Barack Obama is the first Black president of the United States. Learn facts about him: his age, height, leadership legacy, quotes, family, and more.\\', \\'Barack Obama is named after his father, who was a Kenyan economist (called under the same name). He’s first real given name is “Barak”, also spelled Baraq (Not to be confused with Barack which is is a building or group of buildings …\\', \\'When Barack Obama was elected president in 2008, he became the first African American to hold the office. The framers of the Constitution always hoped that our leadership would not be limited...\\', \\'When Barack Obama was elected president in 2008, he became the first African American to hold the office. Obama faced major challenges during his two-term tenur...\\']'"
      ]
     },
     "execution_count": 19,
     "metadata": {},
     "output_type": "execute_result"
    }
   ],
   "source": [
    "search.run(\"Obama's first name?\")"
   ]
  },
  {
   "cell_type": "code",
   "execution_count": 23,
   "metadata": {},
   "outputs": [],
   "source": [
    "# 한국어로 검색 결과 반환 가능\n",
    "params = {\n",
    "    \"engine\": \"google\",\n",
    "    # Supported Google Countries(국가)\n",
    "    \"gl\": \"kr\",\n",
    "    # Supported Google Languages(언어)\n",
    "    \"hl\": \"ko\",\n",
    "}\n",
    "search = SerpAPIWrapper(params=params)"
   ]
  },
  {
   "cell_type": "code",
   "execution_count": 24,
   "metadata": {},
   "outputs": [
    {
     "data": {
      "text/plain": [
       "\"['버락 후세인 오바마 2세는 미국의 정치인으로 미합중국 제44대 대통령이다. 2008년 미국 대통령 선거에 민주당 소속으로 출마, 미국 역사상 최초의 아프리카계 미국인 대통령에 당선되었으며, 2012년 미국 대통령 선거에서 재선에 성공해 총 8년의 임기를 마치고 퇴임하였다.', '버락 오바마 (Barack Obama) type: 전 미국의 대통령.', '버락 오바마 (Barack Obama) entity_type: people.', '버락 오바마 (Barack Obama) kgmid: /m/02mjmr.', '버락 오바마 (Barack Obama) 출생: 1961년 8월 4일 (63세), 미국 하와이 호놀룰루 카피올라니 여성병원.', '버락 오바마 (Barack Obama) 배우자: 미셸 오바마 (1992년–).', '버락 오바마 (Barack Obama) 부통령: 조 바이든 (2009년–2017년).', '버락 오바마 (Barack Obama) 학력: 하버드 로 스쿨 (1988년–1991년).', '버락 오바마 (Barack Obama) 자녀: 말리아 오바마, 나타샤 오바마.', '버락 오바마 (Barack Obama) 재임_기간: 2009년 1월 20일–2017년 1월 20일.', '버락 오바마 (Barack Obama) 키: 187cm.', 'Barack Hussein Obama II (born August 4, 1961) is an American politician who served as the 44th president of the United States from 2009 to 2017.', 'Full Name of Father. BARACK. 9. HUSSEIN. OBAMA. 10. Age of Father. 11. Birthplace (Island, State ...', 'In full: Barack Hussein Obama II ; Born: August 4, 1961, Honolulu, Hawaii, U.S. (age 63) ; Title / Office: presidency of the United States of America (2009-2017), ...', 'His last name is Obama, his first name is Barack. He was born in 1961 and any internet search could have given you that answer.', 'Barack Hussein Obama II was born August 4, 1961, in Honolulu, Hawaii, to parents Barack H. Obama, Sr., and Stanley Ann Dunham.', 'Barack Obama served as the 44th President of the United States. His story is the American story — values from the heartland, a middle-class upbringing in a ...', 'Obama IS his last name. His first name is Barack.', 'Barack Hussein Obama II is an American politician and attorney. He was the 44th president of the United States from 2009 to 2017. He was the first ...', 'Hopeful parents named their sons for the first black president, whose first name is a variation of the Hebrew name Baruch, which means “blessed” in English.', 'There is a purported Canadian Birth Certificate, posted on the Internet, in the name of Barack Hussein Obama, Jr.; however, the date of birth is shown as ...']\""
      ]
     },
     "execution_count": 24,
     "metadata": {},
     "output_type": "execute_result"
    }
   ],
   "source": [
    "search.run(\"Obama's first name?\")"
   ]
  },
  {
   "cell_type": "code",
   "execution_count": null,
   "metadata": {},
   "outputs": [],
   "source": []
  }
 ],
 "metadata": {
  "kernelspec": {
   "display_name": "Python 3 (ipykernel)",
   "language": "python",
   "name": "python3"
  },
  "language_info": {
   "codemirror_mode": {
    "name": "ipython",
    "version": 3
   },
   "file_extension": ".py",
   "mimetype": "text/x-python",
   "name": "python",
   "nbconvert_exporter": "python",
   "pygments_lexer": "ipython3",
   "version": "3.11.9"
  }
 },
 "nbformat": 4,
 "nbformat_minor": 4
}
